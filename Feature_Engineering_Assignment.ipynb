{
  "nbformat": 4,
  "nbformat_minor": 0,
  "metadata": {
    "colab": {
      "provenance": []
    },
    "kernelspec": {
      "name": "python3",
      "display_name": "Python 3"
    },
    "language_info": {
      "name": "python"
    }
  },
  "cells": [
    {
      "cell_type": "markdown",
      "source": [
        "##**ASSIGNMENT - FEATURE ENGINEERING**:"
      ],
      "metadata": {
        "id": "2ssRktUHtbdA"
      }
    },
    {
      "cell_type": "markdown",
      "source": [
        "1. What is a parameter?\n",
        "  - A parameter is a value that is used for the training of the model.\n",
        "  ---\n",
        "2. What is correlation? What does negative correlation mean?\n",
        "  - Correlation means how two variables are related and move together. Negative correlation is a relation where one variable goes up and the other goes down.\n",
        "  ---\n",
        "3. Define Machine Learning. What are the main components in Machine Learning?\n",
        "  - Machine Learning is defined as model training using data and algorithms which can make predictions or learn patterns in the data without external programming.\n",
        "  ---\n",
        "4. How does loss value help in determining whether the model is good or not?\n",
        "  - Loss values helps to determine whether the model is good or not because it shows how far is the predictions from the real value. The lower the loss the better the model.\n",
        "  ---\n",
        "5. What are continuous and categorical variables?\n",
        "  - Continuous -> numeric data, which can take any value like weight or height\n",
        "  Categorical -> group data, like category such as gender, colors, grade.\n",
        "  ---\n",
        "6. How do we handle categorical variables in Machine Learning? What are the common techniques?\n",
        "  - We handle categorical variables using data encoding technique where we convert the categorical data into numeric data using encoding such as One-Hot Encoding, Label Encoding, Target-Guided encoding.\n",
        "  ---\n",
        "7. What do you mean by training and testing a dataset?\n",
        "  - Training the model requires some data, which helps them to understand it, find patterns and analyse for future predictions, basically to fit the model.\n",
        "  Testing datset means the data which is used to test the performance of the model and find its accuracy, to see how they handle unseen data.\n",
        "  ---\n",
        "8. What is sklearn.preprocessing?\n",
        "  - sklearn.preprocessing is a module with various tools which is used to clean or transform the data like scaling or encoding for the model.\n",
        "  ---\n",
        "9. What is a Test set?\n",
        "  - The part of the data that is kept aside to check the final model performance or accuracy.\n",
        "  ---\n",
        "10. How do we split data for model fitting (training and testing) in Python? How do you approach a Machine Learning problem?\n",
        "  - We use train_test_split to divide the data in training and testing, usually we do 80:20 proportion or 90:10 proportion.\n",
        "\n",
        "  - Approach for ML problem :\n",
        "  (i) Understanding problem\n",
        "  (ii) Collect and clean data\n",
        "  (iii) EDA and feature engineering\n",
        "  (iv) Choose and train the model\n",
        "  (v) Evaluate and Deploy it\n",
        "  ---\n",
        "\n",
        "11. Why do we have to perform EDA before fitting a model to the data?\n",
        "  - EDA (Exploratory Data Analysis) is used to reveal patterns, missing data, outliers before modeling and use it to the advantage of model training.\n",
        "  ---\n",
        "12. What is correlation?\n",
        "  - Correlation means how two variables are related and move together.\n",
        "  ---\n",
        "13. What does negative correlation mean?\n",
        "  - Negative correlation is a relation where one variable goes up and the other goes down.\n",
        "  ---\n",
        "14. How can you find correlation between variables in Python?\n",
        "  - we can find the correlation using df.corr() and sometimes need to use df.corr(numeric_value = True) for some python version.\n",
        "  ---\n",
        "15. What is causation? Explain difference between correlation and causation with an example.\n",
        "  - Causation means when one variable directly causes a effect or change is another variable. Difference is that correlation means two things moving together like Increase in Ice cream sale and decrease in Heater sale in summer. Whereas caustion means one thing causes an effect to another like switching on a switch causes the the bulb to turn on.\n",
        "  ---\n",
        "16. What is an Optimizer? What are different types of optimizers? Explain each with an example.\n",
        "  - Algorithm that updates a model’s weights to minimise loss during training.\n",
        "  Types:\n",
        "  (i)Gradient Descent:\n",
        "  (ii) SGD\n",
        "  (iii) Adam\n",
        "  ---\n",
        "17. What is sklearn.linear_model?\n",
        "  - sklearn.linear_model is a Scikit-learn module for linear models like Linear and Logistic Regression.\n",
        "  ---\n",
        "18. What does model.fit() do? What arguments must be given?\n",
        "  - Trains the model on training data.\n",
        "  Arguments: features (X) and target (y).\n",
        "  ---\n",
        "19. What does model.predict() do? What arguments must be given?\n",
        "  - Uses trained model to predict on new data.\n",
        "  Arguments: new feature data (X_new).\n",
        "  ---\n",
        "20. What are continuous and categorical variables?\n",
        "  - Continuous -> numeric data, which can take any value like weight or height\n",
        "  Categorical -> group data, like category such as gender, colors, grade.\n",
        "  ---\n",
        "21. What is feature scaling? How does it help in Machine Learning?\n",
        "  - Rescaling numeric features so they are on similar ranges for faster, stable training of model. Scaling helps the model to reduce biasness based on numbers.\n",
        "  ---\n",
        "22. How do we perform scaling in Python?\n",
        "  - We perform scaling using various functions such as StandardScaler for standardised scaling, and MinMaxScaler for normalised scaling.\n",
        "  ---\n",
        "23. What is sklearn.preprocessing?\n",
        "  - sklearn.preprocessing is a module with various tools which is used to clean or transform the data like scaling or encoding for the model.\n",
        "  ---\n",
        "24. How do we split data for model fitting (training and testing) in Python?\n",
        "  - from sklearn.model_selection import train_test_split to divide the data into training and testing. Usually we do an 80:20 proportion or a 90:10 proportion.\n",
        "  ---\n",
        "25. Explain data encoding?\n",
        "  - Data encoding means converting the categorical data or text into numeric form using various encoding technique like One-Hot encoding, Label encoding, Target Guided encoding, so the encoded data can be used to train model for better accuracy.\n",
        "  ---\n"
      ],
      "metadata": {
        "id": "jf7ksej1NlSD"
      }
    }
  ]
}