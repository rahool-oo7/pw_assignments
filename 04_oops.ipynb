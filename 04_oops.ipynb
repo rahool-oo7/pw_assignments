{
  "nbformat": 4,
  "nbformat_minor": 0,
  "metadata": {
    "colab": {
      "provenance": []
    },
    "kernelspec": {
      "name": "python3",
      "display_name": "Python 3"
    },
    "language_info": {
      "name": "python"
    }
  },
  "cells": [
    {
      "cell_type": "code",
      "execution_count": null,
      "metadata": {
        "id": "SbFFxu1_vfSs"
      },
      "outputs": [],
      "source": []
    },
    {
      "cell_type": "markdown",
      "source": [
        "# **ASSIGNMENT 4 - OOPS**"
      ],
      "metadata": {
        "id": "98UONcYQvkK_"
      }
    },
    {
      "cell_type": "markdown",
      "source": [
        "\n",
        "## ***PYTHON OOPS QUESTIONS***\n"
      ],
      "metadata": {
        "id": "Af35wwv6vs2o"
      }
    },
    {
      "cell_type": "markdown",
      "source": [
        "1. What is Object-Oriented Programming (OOP)?\n",
        "  - OOP is a programming concept which provides the power to create it's own data type, it consist of 4 main pillars : Abstraction, Encapsulation, Inheritance, and Polymorphism\n",
        "---\n",
        "2. What is a class in OOP?\n",
        "  - Class is a blueprint for an object in Object-Oriented Programming, it contains the attributes and methods for its object\n",
        "---\n",
        "3.  What is an object in OOP?\n",
        "  - Object is an instance of a class, which contains the attributes and methods to operate on that data\n",
        "---\n",
        "4. What is the difference between abstraction and encapsulation?\n",
        "  - Encapsulation hides the state of an object by restricting direct access and uses private, protected variable and getter and setter methods.\n",
        "  Abstraction hides the unnecessary details and only shows the required details to user, it is achieved using ABC, and @abstractmethod\n",
        "---\n",
        "5. What are dunder methods in Python?\n",
        "  - dunder methods are special method in Python, which makes our object feel like a built-in types, example, __str__: prints our object, __add__: add operation on object etc.\n",
        "---\n",
        "6. Explain the concept of inheritance in OOP.\n",
        "  - Inheritance is a concept where one class (child) gets the properties and behavior of another class (parent). It helps in code reusability\n",
        "---\n",
        "7. What is polymorphism in OOP?\n",
        "  - Polymorphism means many forms. It lets you use one method for different behaviors, depending on the object.\n",
        "  example: '+' or __add__ -> when two integer are added we get sum of integer wheras when two string are added we get concatinated string.\n",
        "\n",
        "---\n",
        "8. How is encapsulation achieved in Python?\n",
        "  - Encapsulation is achieved by using private, protected variable and getter, setter method to make the data inaccessable from the user directly\n",
        "---\n",
        "9. What is a constructor in Python?\n",
        "  - Constructor is a special function uses dunder method __init__, code written inside it doesn't require to be called, it gets executed once the object is created, basically used to create variables of object\n",
        "---\n",
        "10. What are class and static methods in Python?\n",
        "  - Class method is defined using the @classmethod decorator and takes cls as its first argument, it access or modify class-level variables shared among all instances.\n",
        "  Static method is defined with the @staticmethod decorator, does not take self or cls and cannot access class or instance variables. It is simply a function placed inside a class for normal functionality.\n",
        "---\n",
        "11. What is method overloading in Python?\n",
        "  - It refers to defining multiple methods with the same name but different arguments. Python does not support true method overloading, but it's achieved using default arguments.\n",
        "---\n",
        "12. What is method overriding in OOP?\n",
        "  - When a child class has same method name as parent class, then the child's method pverrides the parent one, which is basically runtime polymorphism in OOP.\n",
        "---\n",
        "13. What is a property decorator in Python?\n",
        "  - The property decorator is a built-in feature in Python that allows you to define getter, setter, and deleter methods for a class attribute\n",
        "---\n",
        "14. Why is polymorphism important in OOP?\n",
        "  - Polymorphism lets you use one function for different types of objects, making your code smarter and easier to extend.\n",
        "---\n",
        "15. What is an abstract class in Python?\n",
        "  - Abstract class is a class which cannot be instantiated and is basically a blueprint for other class, if it contain abstract methods then they must be present in derived class\n",
        "---\n",
        "16. What are the advantages of OOP?\n",
        "  - Advantages of OOP :\n",
        "    1. Polymorphism: different forms for different object class\n",
        "    2. Code reusability: Inheritance of property and behaviour\n",
        "    3. Abstraction: not showing unnecessary code\n",
        "    4. Encapsulation: reduce access to user\n",
        "---\n",
        "17.  What is the difference between a class variable and an instance variable?\n",
        "  - Class Variable is same for all object as it's defined inside class but outside constructor, it can be implemented as counter.\n",
        "  Instance variable is an object variable which is different for each object, this is defined inside the constructor.\n",
        "---\n",
        "18. What is multiple inheritance in Python?\n",
        "  - When a class (child) inherits from more than one classes (parent) then its called as Multiple Inheritance\n",
        "---\n",
        "19.  Explain the purpose of \"__str__\" and \"__repr__\" methods in Python.\n",
        "  - __str__ is used to show a readable message when you print an object.\n",
        "  __repr__ is used to show a detailed or technical message, used by developers.\n",
        "---\n",
        "20. What is the significance of the 'super()' function in Python?\n",
        "  - The super() function in Python is used to call methods from a parent class in a child class. It's mostly used in inheritance to reuse the code from the parent class without repeating it.\n",
        "---\n",
        "21.  What is the significance of the __del__ method in Python?\n",
        "  - The __del__ method in Python is a destructor — it's called automatically when an object is about to be deleted or destroyed.\n",
        "---\n",
        "22. What is the difference between @staticmethod and @classmethod in Python?\n",
        "  - @staticmethod is used when a method doesn't need access to the class or instance, its like a regular function placed inside class.\n",
        "  @classmethod takes cls as the first argument and can access or modify class attributes.\n",
        "---\n",
        "23. How does polymorphism work in Python with inheritance?\n",
        "  - Polymorphism in Python with inheritance allows methods in different classes to have the same name but behave differently based on the object calling them. When a child class overrides a method from its parent class, Python uses the child class's version when the method is called through a child object.\n",
        "---\n",
        "24. What is method chaining in Python OOP?\n",
        "  - Method chaining in Python OOP is a technique where multiple methods are called on the same object in a single line using dot (.) notation. For it to work, each method must return self. This makes the code cleaner and more readable, especially when performing a series of operations on an object.\n",
        "---\n",
        "25.  What is the purpose of the __call__ method in Python?\n",
        "  - The __call__ method lets a Python object be used like a function. When defined, you can call the object using object() and it will execute the code inside __call__.\n",
        "---"
      ],
      "metadata": {
        "id": "tPx3ggtQv4HX"
      }
    },
    {
      "cell_type": "markdown",
      "source": [
        "## ***PRACTICAL QUESTIONS***"
      ],
      "metadata": {
        "id": "MOcjlcwwyruU"
      }
    },
    {
      "cell_type": "markdown",
      "source": [
        "1. Create a parent class Animal with a method speak() that prints a generic message. Create a child class Dog\n",
        "that overrides the speak() method to print \"Bark!\"."
      ],
      "metadata": {
        "id": "FHfu7xDBysob"
      }
    },
    {
      "cell_type": "code",
      "source": [
        "class Animal:\n",
        "  def speak(self):\n",
        "    print(\"Animal voice\")\n",
        "\n",
        "class Dog(Animal):\n",
        "  def speak(self):\n",
        "    print(\"Bark!\")\n",
        "\n",
        "dog = Dog()\n",
        "dog.speak()"
      ],
      "metadata": {
        "colab": {
          "base_uri": "https://localhost:8080/"
        },
        "id": "ztLY_5_3yykh",
        "outputId": "b78a6f65-6039-4bf7-d71a-f5c9ee669349"
      },
      "execution_count": 1,
      "outputs": [
        {
          "output_type": "stream",
          "name": "stdout",
          "text": [
            "Bark!\n"
          ]
        }
      ]
    },
    {
      "cell_type": "markdown",
      "source": [
        "2. Write a program to create an abstract class Shape with a method area(). Derive classes Circle and Rectangle\n",
        "from it and implement the area() method in both."
      ],
      "metadata": {
        "id": "VzdpOSEGy8Ar"
      }
    },
    {
      "cell_type": "code",
      "source": [
        "from abc import ABC, abstractclassmethod\n",
        "\n",
        "class Shape(ABC):\n",
        "\n",
        "  @abstractclassmethod\n",
        "  def area(self):\n",
        "    pass\n",
        "\n",
        "class Circle(Shape):\n",
        "  def __init__(self, radius):\n",
        "    self.radius = radius\n",
        "\n",
        "  def area(self):\n",
        "    return f\"{round((3.144 * self.radius**2),2)} unit sq\"\n",
        "\n",
        "\n",
        "class Rectangle(Shape):\n",
        "  def __init__(self, length, breath):\n",
        "    self.length = length\n",
        "    self.breath = breath\n",
        "\n",
        "  def area(self):\n",
        "    return f\"{round((self.length * self.breath),2)} unit sq\"\n",
        "\n",
        "\n",
        "circle = Circle(10)\n",
        "rectangle = Rectangle(10, 20)\n",
        "\n",
        "print(circle.area())\n",
        "print(rectangle.area())"
      ],
      "metadata": {
        "colab": {
          "base_uri": "https://localhost:8080/"
        },
        "id": "iKVnnB3mzBQJ",
        "outputId": "73a78be6-9ae4-4fbc-aff7-5ed49d20e40a"
      },
      "execution_count": 25,
      "outputs": [
        {
          "output_type": "stream",
          "name": "stdout",
          "text": [
            "314.4 unit sq\n",
            "200 unit sq\n"
          ]
        }
      ]
    },
    {
      "cell_type": "markdown",
      "source": [
        "3. Implement a multi-level inheritance scenario where a class Vehicle has an attribute type. Derive a class Car\n",
        "and further derive a class ElectricCar that adds a battery attribute."
      ],
      "metadata": {
        "id": "fkcK4dFFzC8l"
      }
    },
    {
      "cell_type": "code",
      "source": [
        "class Vehicle:\n",
        "    def __init__(self, Vtype):\n",
        "        self.Vtype = Vtype\n",
        "\n",
        "class Car(Vehicle):\n",
        "    def __init__(self, Vtype, brand):\n",
        "        super().__init__(Vtype)\n",
        "        self.brand = brand\n",
        "\n",
        "class ElectricCar(Car):\n",
        "    def __init__(self, Vtype, brand, battery):\n",
        "        super().__init__(Vtype, brand)\n",
        "        self.battery = battery\n",
        "\n",
        "tesla = ElectricCar(\"Four Wheeler\", \"Tesla\", 75)\n",
        "\n",
        "print(tesla.Vtype)\n",
        "print(tesla.brand)\n",
        "print(tesla.battery)\n",
        "\n"
      ],
      "metadata": {
        "colab": {
          "base_uri": "https://localhost:8080/"
        },
        "id": "xcPl_92izFWl",
        "outputId": "7eac17b8-a22d-40fd-9d27-5bc9c2cc7ea2"
      },
      "execution_count": 2,
      "outputs": [
        {
          "output_type": "stream",
          "name": "stdout",
          "text": [
            "Four Wheeler\n",
            "Tesla\n",
            "75\n"
          ]
        }
      ]
    },
    {
      "cell_type": "markdown",
      "source": [
        "4. Demonstrate polymorphism by creating a base class Bird with a method fly(). Create two derived classes\n",
        "Sparrow and Penguin that override the fly() method."
      ],
      "metadata": {
        "id": "oN5dkvQZzFqP"
      }
    },
    {
      "cell_type": "code",
      "source": [
        "class Bird():\n",
        "  def fly(self):\n",
        "    print(\"Bird is flying\")\n",
        "\n",
        "class Sparrow(Bird):\n",
        "  def fly(self):\n",
        "    print(\"Sparrow is flying\")\n",
        "\n",
        "class Penguin(Bird):\n",
        "  def fly(self):\n",
        "    print(\"Penguin is flying\")\n",
        "\n",
        "sparrow = Sparrow()\n",
        "penguin = Penguin()\n",
        "\n",
        "sparrow.fly()\n",
        "penguin.fly()"
      ],
      "metadata": {
        "colab": {
          "base_uri": "https://localhost:8080/"
        },
        "id": "fuh7BCNBzvoH",
        "outputId": "237de393-8b53-47d4-8be8-b5ef2fb943d6"
      },
      "execution_count": 5,
      "outputs": [
        {
          "output_type": "stream",
          "name": "stdout",
          "text": [
            "Sparrow is flying\n",
            "Penguin is flying\n"
          ]
        }
      ]
    },
    {
      "cell_type": "markdown",
      "source": [
        "5. Write a program to demonstrate encapsulation by creating a class BankAccount with private attributes\n",
        "balance and methods to deposit, withdraw, and check balance."
      ],
      "metadata": {
        "id": "6SXZceZgzKWT"
      }
    },
    {
      "cell_type": "code",
      "source": [
        "class BankAccount():\n",
        "  def __init__(self):\n",
        "    self.__balance = 0\n",
        "\n",
        "  def deposit(self, amount):\n",
        "    self.__balance += amount\n",
        "    print(\"Deposit Successful\")\n",
        "\n",
        "  def withdraw(self, amount):\n",
        "    if(amount > self.__balance):\n",
        "      print(\"Insufficient balance\")\n",
        "    else:\n",
        "      self.__balance -= amount\n",
        "      print(\"Withdraw Successful\")\n",
        "\n",
        "  def check_balance(self):\n",
        "    print(\"Balance: \",self.__balance)\n",
        "\n",
        "account = BankAccount()\n",
        "account.check_balance()\n",
        "account.deposit(1000)\n",
        "account.check_balance()\n",
        "account.withdraw(500)\n",
        "account.check_balance()\n",
        "account.withdraw(2000)"
      ],
      "metadata": {
        "colab": {
          "base_uri": "https://localhost:8080/"
        },
        "id": "4RiaGVUDzwTO",
        "outputId": "3c0fc058-c6c2-4e19-e43f-fd2503ecab62"
      },
      "execution_count": 10,
      "outputs": [
        {
          "output_type": "stream",
          "name": "stdout",
          "text": [
            "Balance:  0\n",
            "Deposit Successful\n",
            "Balance:  1000\n",
            "Withdraw Successful\n",
            "Balance:  500\n",
            "Insufficient balance\n"
          ]
        }
      ]
    },
    {
      "cell_type": "markdown",
      "source": [
        "6. Demonstrate runtime polymorphism using a method play() in a base class Instrument. Derive classes Guitar\n",
        "and Piano that implement their own version of play()."
      ],
      "metadata": {
        "id": "ZvLpp_n6zL1f"
      }
    },
    {
      "cell_type": "code",
      "source": [
        "class Instrument:\n",
        "  def play(self):\n",
        "    print(\"Playing Instrument\")\n",
        "\n",
        "class Guitar(Instrument):\n",
        "  def play(self):\n",
        "    print(\"Playing Guitar\")\n",
        "\n",
        "class Piano(Instrument):\n",
        "  def play(self):\n",
        "    print(\"Playing Piano\")\n",
        "\n",
        "guitar = Guitar()\n",
        "piano = Piano()\n",
        "\n",
        "guitar.play()\n",
        "piano.play()"
      ],
      "metadata": {
        "colab": {
          "base_uri": "https://localhost:8080/"
        },
        "id": "VSWFciL7zw4f",
        "outputId": "b4f301c7-775e-425b-aee8-9b9224defeec"
      },
      "execution_count": 11,
      "outputs": [
        {
          "output_type": "stream",
          "name": "stdout",
          "text": [
            "Playing Guitar\n",
            "Playing Piano\n"
          ]
        }
      ]
    },
    {
      "cell_type": "markdown",
      "source": [
        "7. Create a class MathOperations with a class method add_numbers() to add two numbers and a static\n",
        "method subtract_numbers() to subtract two numbers."
      ],
      "metadata": {
        "id": "ss0Y1KCjzLzh"
      }
    },
    {
      "cell_type": "code",
      "source": [
        "class MathOperations:\n",
        "\n",
        "\n",
        "  def add_numbers(self, a, b):\n",
        "    return a + b\n",
        "\n",
        "  @staticmethod\n",
        "  def subtract_numbers(a, b):\n",
        "    return a - b\n",
        "\n",
        "math = MathOperations()\n",
        "\n",
        "print(math.add_numbers(100, 20))\n",
        "\n",
        "print(math.subtract_numbers(100, 20))"
      ],
      "metadata": {
        "colab": {
          "base_uri": "https://localhost:8080/"
        },
        "id": "pyhrNb-xzxRS",
        "outputId": "e0c67a6c-7629-46e0-b0ce-80b2bc4d4f5a"
      },
      "execution_count": 23,
      "outputs": [
        {
          "output_type": "stream",
          "name": "stdout",
          "text": [
            "120\n",
            "80\n"
          ]
        }
      ]
    },
    {
      "cell_type": "markdown",
      "source": [
        "8. Implement a class Person with a class method to count the total number of persons created."
      ],
      "metadata": {
        "id": "lQlGKQ2JzLxM"
      }
    },
    {
      "cell_type": "code",
      "source": [
        "class Person:\n",
        "  count = 0\n",
        "\n",
        "  @classmethod\n",
        "  def total_person(cls):\n",
        "    return cls.count\n",
        "\n",
        "  def __init__(self):\n",
        "    Person.count += 1\n",
        "\n",
        "p1 = Person()\n",
        "p2 = Person()\n",
        "p3 = Person()\n",
        "\n",
        "print(Person.total_person())"
      ],
      "metadata": {
        "colab": {
          "base_uri": "https://localhost:8080/"
        },
        "id": "BI_QhjHGzxwu",
        "outputId": "f29b78fd-ddf2-4888-9fa3-84e58404f3c5"
      },
      "execution_count": 28,
      "outputs": [
        {
          "output_type": "stream",
          "name": "stdout",
          "text": [
            "3\n"
          ]
        }
      ]
    },
    {
      "cell_type": "markdown",
      "source": [
        "9. Write a class Fraction with attributes numerator and denominator. Override the str method to display the\n",
        "fraction as \"numerator/denominator\"."
      ],
      "metadata": {
        "id": "jW6vXOhJzLvI"
      }
    },
    {
      "cell_type": "code",
      "source": [
        "class Fraction:\n",
        "  def __init__(self, num, den):\n",
        "    self.num = num\n",
        "    self.den = den\n",
        "\n",
        "  def __str__(self):\n",
        "    return f\"{self.num}/{self.den}\"\n",
        "\n",
        "fr1 = Fraction(3,5)\n",
        "print(fr1)"
      ],
      "metadata": {
        "colab": {
          "base_uri": "https://localhost:8080/"
        },
        "id": "2BekPD0ZzyL1",
        "outputId": "3200fffd-e5f2-4cbd-f8bc-97c731c457de"
      },
      "execution_count": 29,
      "outputs": [
        {
          "output_type": "stream",
          "name": "stdout",
          "text": [
            "3/5\n"
          ]
        }
      ]
    },
    {
      "cell_type": "markdown",
      "source": [
        "10. Demonstrate operator overloading by creating a class Vector and overriding the add method to add two\n",
        "vectors."
      ],
      "metadata": {
        "id": "1-Xp7XRTzLsh"
      }
    },
    {
      "cell_type": "code",
      "source": [
        "class Vector:\n",
        "    def __init__(self, x, y):\n",
        "        self.x = x\n",
        "        self.y = y\n",
        "\n",
        "    def __add__(self, other):\n",
        "        return Vector(self.x + other.x, self.y + other.y)\n",
        "\n",
        "    def __str__(self):\n",
        "        return f\"({self.x}, {self.y})\"\n",
        "\n",
        "v1 = Vector(2, 3)\n",
        "v2 = Vector(4, 5)\n",
        "\n",
        "v3 = v1 + v2\n",
        "print(\"Vector:\", v3)\n"
      ],
      "metadata": {
        "colab": {
          "base_uri": "https://localhost:8080/"
        },
        "id": "6VQ8nz0Tzymj",
        "outputId": "9b8bec4b-1d4d-47a0-f9f5-394f9f412804"
      },
      "execution_count": 1,
      "outputs": [
        {
          "output_type": "stream",
          "name": "stdout",
          "text": [
            "Vector: (6, 8)\n"
          ]
        }
      ]
    },
    {
      "cell_type": "markdown",
      "source": [
        "11. Create a class Person with attributes name and age. Add a method greet() that prints \"Hello, my name is\n",
        "{name} and I am {age} years old.\""
      ],
      "metadata": {
        "id": "MUInfdmtzLqZ"
      }
    },
    {
      "cell_type": "code",
      "source": [
        "class Person:\n",
        "  def __init__(self, name, age):\n",
        "    self.name = name\n",
        "    self.age = age\n",
        "\n",
        "  def greet(self):\n",
        "    print(f\"Hello, my name is {self.name} and I am {self.age} years old.\")\n",
        "\n",
        "p1 = Person(\"Ritesh\", 21)\n",
        "p1.greet()"
      ],
      "metadata": {
        "colab": {
          "base_uri": "https://localhost:8080/"
        },
        "id": "Kzl6I1dYzzaK",
        "outputId": "12e3b8d5-1761-4966-9982-60ec909f0dfe"
      },
      "execution_count": 1,
      "outputs": [
        {
          "output_type": "stream",
          "name": "stdout",
          "text": [
            "Hello, my name is Ritesh and I am 21 years old.\n"
          ]
        }
      ]
    },
    {
      "cell_type": "markdown",
      "source": [
        "12. Implement a class Student with attributes name and grades. Create a method average_grade() to compute\n",
        "the average of the grades."
      ],
      "metadata": {
        "id": "nRnPMwUQzLn-"
      }
    },
    {
      "cell_type": "code",
      "source": [
        "class Student:\n",
        "  def __init__(self, name, grades):\n",
        "    self.name = name\n",
        "    self.grades = grades\n",
        "\n",
        "  def average_grade(self):\n",
        "    avg = sum(self.grades) / len(self.grades)\n",
        "    return avg\n",
        "\n",
        "s = Student('Ritesh', [10, 20, 30, 40])\n",
        "print(s.average_grade())"
      ],
      "metadata": {
        "colab": {
          "base_uri": "https://localhost:8080/"
        },
        "id": "TgJhxYgOzz4Y",
        "outputId": "9152636b-6353-4940-a29e-5044ee35df8b"
      },
      "execution_count": 2,
      "outputs": [
        {
          "output_type": "stream",
          "name": "stdout",
          "text": [
            "25.0\n"
          ]
        }
      ]
    },
    {
      "cell_type": "markdown",
      "source": [
        "13. Create a class Rectangle with methods set_dimensions() to set the dimensions and area() to calculate the\n",
        "area."
      ],
      "metadata": {
        "id": "Dxlu839czLle"
      }
    },
    {
      "cell_type": "code",
      "source": [
        "class Rectangle:\n",
        "  def __init__(self):\n",
        "    self.length = 0\n",
        "    self.breath = 0\n",
        "\n",
        "  def set_dimensions(self, length, breath):\n",
        "    self.length = length\n",
        "    self.breath = breath\n",
        "\n",
        "  def area(self):\n",
        "    return self.length * self.breath\n",
        "\n",
        "r = Rectangle()\n",
        "r.set_dimensions(10, 20)\n",
        "print(r.area())"
      ],
      "metadata": {
        "colab": {
          "base_uri": "https://localhost:8080/"
        },
        "id": "YPedEBf8z0dV",
        "outputId": "67e7f568-1874-4b00-ebd4-022f4483b918"
      },
      "execution_count": 3,
      "outputs": [
        {
          "output_type": "stream",
          "name": "stdout",
          "text": [
            "200\n"
          ]
        }
      ]
    },
    {
      "cell_type": "markdown",
      "source": [
        "14. Create a class Employee with a method calculate_salary() that computes the salary based on hours worked\n",
        "and hourly rate. Create a derived class Manager that adds a bonus to the salary."
      ],
      "metadata": {
        "id": "l6U4I7jnzLjI"
      }
    },
    {
      "cell_type": "code",
      "source": [
        "class Employee:\n",
        "    def calculate_salary(self, hours, rate):\n",
        "        return hours * rate\n",
        "\n",
        "class Manager(Employee):\n",
        "    def calculate_salary(self, hours, rate, bonus):\n",
        "        return super().calculate_salary(hours, rate) + bonus\n",
        "\n",
        "e = Employee()\n",
        "print(\"Employee Salary:\", e.calculate_salary(40, 500))\n",
        "\n",
        "m = Manager()\n",
        "print(\"Manager Salary:\", m.calculate_salary(40, 500, 5000))"
      ],
      "metadata": {
        "colab": {
          "base_uri": "https://localhost:8080/"
        },
        "id": "Zkju6C5Yz04k",
        "outputId": "c3013df2-9d86-4205-d5e8-32b5510fda43"
      },
      "execution_count": 3,
      "outputs": [
        {
          "output_type": "stream",
          "name": "stdout",
          "text": [
            "Employee Salary: 20000\n",
            "Manager Salary: 25000\n"
          ]
        }
      ]
    },
    {
      "cell_type": "markdown",
      "source": [
        "15. Create a class Product with attributes name, price, and quantity. Implement a method total_price() that\n",
        "calculates the total price of the product."
      ],
      "metadata": {
        "id": "O1dANmbxzLhM"
      }
    },
    {
      "cell_type": "code",
      "source": [
        "class Product:\n",
        "  def __init__(self, name, price, quantity):\n",
        "    self.name = name\n",
        "    self.price = price\n",
        "    self.quantity = quantity\n",
        "\n",
        "  def total_price(self):\n",
        "    return self.price * self.quantity\n",
        "\n",
        "p = Product(\"Pen\", 10, 100)\n",
        "print(p.total_price())"
      ],
      "metadata": {
        "colab": {
          "base_uri": "https://localhost:8080/"
        },
        "id": "LxgZI_Shz1TI",
        "outputId": "c210e8c6-ee16-48c1-a725-78d78a9b1c9d"
      },
      "execution_count": 9,
      "outputs": [
        {
          "output_type": "stream",
          "name": "stdout",
          "text": [
            "1000\n"
          ]
        }
      ]
    },
    {
      "cell_type": "markdown",
      "source": [
        "16. Create a class Animal with an abstract method sound(). Create two derived classes Cow and Sheep that\n",
        "implement the sound() method."
      ],
      "metadata": {
        "id": "QZJ0okDAzLeu"
      }
    },
    {
      "cell_type": "code",
      "source": [
        "from abc import ABC, abstractclassmethod\n",
        "\n",
        "class Animal(ABC):\n",
        "  @abstractclassmethod\n",
        "  def sound(self):\n",
        "    pass\n",
        "\n",
        "class Cow(Animal):\n",
        "  def sound(self):\n",
        "    print(\"Moooo\")\n",
        "\n",
        "class Sheep(Animal):\n",
        "  def sound(self):\n",
        "    print(\"Mehhh\")\n",
        "\n",
        "cow = Cow()\n",
        "sheep = Sheep()\n",
        "\n",
        "cow.sound()\n",
        "sheep.sound()"
      ],
      "metadata": {
        "colab": {
          "base_uri": "https://localhost:8080/"
        },
        "id": "QyHoqosMz2AL",
        "outputId": "0f08545f-416e-4a43-8662-fca745fb32bc"
      },
      "execution_count": 11,
      "outputs": [
        {
          "output_type": "stream",
          "name": "stdout",
          "text": [
            "Moooo\n",
            "Mehhh\n"
          ]
        }
      ]
    },
    {
      "cell_type": "markdown",
      "source": [
        "17. Create a class Book with attributes title, author, and year_published. Add a method get_book_info() that\n",
        "returns a formatted string with the book's details."
      ],
      "metadata": {
        "id": "GQ9SzW4dzLcf"
      }
    },
    {
      "cell_type": "code",
      "source": [
        "class Book:\n",
        "  def __init__(self, title, author, year_published):\n",
        "    self.title = title\n",
        "    self.author = author\n",
        "    self.year_published = year_published\n",
        "\n",
        "  def get_book_info(self):\n",
        "    return f\"Title: {self.title}\\nAuthor: {self.author}\\nYear Published: {self.year_published}\"\n",
        "\n",
        "book1 = Book('Harry Potter', 'J.K. Rowling', 2004)\n",
        "print(book1.get_book_info())"
      ],
      "metadata": {
        "colab": {
          "base_uri": "https://localhost:8080/"
        },
        "id": "BCaADXwCz2eC",
        "outputId": "be88f083-ac38-4aa4-8258-37d4caa81efd"
      },
      "execution_count": 13,
      "outputs": [
        {
          "output_type": "stream",
          "name": "stdout",
          "text": [
            "Title: Harry Potter\n",
            "Author: J.K. Rowling\n",
            "Year Published: 2004\n"
          ]
        }
      ]
    },
    {
      "cell_type": "markdown",
      "source": [
        "18. Create a class House with attributes address and price. Create a derived class Mansion that adds an\n",
        "attribute number_of_rooms."
      ],
      "metadata": {
        "id": "0BQmsrYhzLaD"
      }
    },
    {
      "cell_type": "code",
      "source": [
        "class House:\n",
        "  def __init__(self):\n",
        "    self.address = \"Bangalore\"\n",
        "    self.price = 1000000\n",
        "\n",
        "class Mansion(House):\n",
        "  def __init__(self):\n",
        "    super().__init__()\n",
        "    self.number_of_rooms = 8\n",
        "\n",
        "m = Mansion()\n",
        "print(m.address)\n",
        "print(m.price)\n",
        "print(m.number_of_rooms)\n"
      ],
      "metadata": {
        "colab": {
          "base_uri": "https://localhost:8080/"
        },
        "id": "gYVZ3-E2efwF",
        "outputId": "9eff90ad-1b14-4872-8405-359044969bf9"
      },
      "execution_count": 15,
      "outputs": [
        {
          "output_type": "stream",
          "name": "stdout",
          "text": [
            "Bangalore\n",
            "1000000\n",
            "8\n"
          ]
        }
      ]
    }
  ]
}