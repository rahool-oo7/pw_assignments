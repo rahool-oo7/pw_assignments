{
  "nbformat": 4,
  "nbformat_minor": 0,
  "metadata": {
    "colab": {
      "provenance": []
    },
    "kernelspec": {
      "name": "python3",
      "display_name": "Python 3"
    },
    "language_info": {
      "name": "python"
    }
  },
  "cells": [
    {
      "cell_type": "markdown",
      "source": [
        "# **ASSIGNMENT 2 - DATA STRUCTURES**"
      ],
      "metadata": {
        "id": "qnqJbR0taJiK"
      }
    },
    {
      "cell_type": "markdown",
      "source": [
        "## ***DATA TYPES AND STRUCTURES QUESTIONS***"
      ],
      "metadata": {
        "id": "guqlQcbOaN5N"
      }
    },
    {
      "cell_type": "markdown",
      "source": [
        "1. What are data structures, and why are they important?\n",
        "  - data structure is a way of organising and storing data, so it can be accessed and manipulated efficiently.\n",
        "  example => list, dictionary, sets, tuple.\n",
        "\n",
        "---\n",
        "2. Explain the difference between mutable and immutable data types with examples.\n",
        "  - Mutable data types are those data types whose values can be changed or manipulated even after assignment whereas, Immutable data types are those whose value can't be changed once assigned.\n",
        "  Mutable e.g. : list, dictionary\n",
        "  Immutable e.g. : tuple, string\n",
        "\n",
        "---\n",
        "3. What are the main differences between lists and tuples in Python?\n",
        "  - The main difference is List is mutable data type and Tuple is immutable data type. Also Lists uses more memory as compared to tuple therefore comparitevely slower then Tuples.\n",
        "\n",
        "---\n",
        "4. Describe how dictionaries store data.\n",
        "  - Dictionaries store data in a \"key-value pair\" where the key is used to access its corresponding value.\n",
        "\n",
        "---\n",
        "5.  Why might you use a set instead of a list in Python?\n",
        "  - Set can be used where there is need of unique values, like storing Roll number or Customer id, because each value will be unique and no duplicacy is allowed. List allows duplicate element.\n",
        "\n",
        "---\n",
        "6. What is a string in Python, and how is it different from a list?\n",
        "  - String is a sequence of characters used to represent textual data and manipulate too. It is a immutable data structure.\n",
        "  Lists are mutable and can store elements of different data types, its elements can be added, removed or changed.\n",
        "\n",
        "---\n",
        "7. How do tuples ensure data integrity in Python?\n",
        "  - As tuple is immutable, so no change or manipulation can be performed on it, therefore resulting in data integrity.\n",
        "\n",
        "---\n",
        "8.  What is a hash table, and how does it relate to dictionaries in Python?\n",
        "  - A hash table is a data structure that stores data using a key and a hash function. Dictionaries are implemented using hash tables, allowing for fast access of values using keys (average time complexity: O(1)).\n",
        "\n",
        "---\n",
        "9.  Can lists contain different data types in Python?\n",
        "  - Yes, List can contain different data types.\n",
        "\n",
        "---\n",
        "10. Explain why strings are immutable in Python.\n",
        "  - Strings are immutable in Python to ensure security and increase code reliability. If you try to modify the string, Python creates a new string instead of changing the original.\n",
        "\n",
        "---\n",
        "11. What advantages do dictionaries offer over lists for certain tasks?\n",
        "  - Dictionaries store the data in key-value pair method which is useful if you are storing multiple data of a single element and want to access it like if key is \"rollNo\", then we can access its values => name, class, marks etc. whereas in list each element is stored separately.\n",
        "\n",
        "---\n",
        "12.  Describe a scenario where using a tuple would be preferable over a list.\n",
        "  - Tuple should be used where there is need of data integrity like storing key which can't be changed but list is mutable so we cannot use list for secure storing.\n",
        "\n",
        "---\n",
        "13. How do sets handle duplicate values in Python?\n",
        "  - Sets automatically removes all the duplicate values and store unique sets of element.\n",
        "\n",
        "---\n",
        "14.  How does the “in” keyword work differently for lists and dictionaries?\n",
        "  - List => in is used to traverse through each element\n",
        "  Dictionary => in is used to traverse through keys of the dictionary, not the values(which can be accessed using those keys).\n",
        "\n",
        "---\n",
        "15. Can you modify the elements of a tuple? Explain why or why not.\n",
        "  - No we cannot modify the elements of tuple because it is a immutable data structure in Python, which doesn't allow to change or manipulate elements in tuple once assigned.\n",
        "\n",
        "---\n",
        "16. What is a nested dictionary, and give an example of its use case?\n",
        "  - A nested dictionary is a dictionary within another dictionary which is mainly used to store complex data.\n",
        "  example: student = {\"name\": \"Ritesh\", \"marks\": {\"math\": 90, \"science\": 85}}\n",
        "\n",
        "\n",
        "---\n",
        "17. Describe the time complexity of accessing elements in a dictionary.\n",
        "  - Accessing elements in a dictionary has an average time complexity of O(1) due to its hash table implementation.\n",
        "\n",
        "---\n",
        "18.  In what situations are lists preferred over dictionaries?\n",
        "  - List is preferred over dictionaries when the order of elements is needed and where index-based access is required.\n",
        "\n",
        "---\n",
        "19. Why are dictionaries considered unordered, and how does that affect data retrieval?\n",
        "  - Dictionaries are considered unordered because it cannot be accessed using index, it can only be accessed using the keys which are present.\n",
        "\n",
        "---\n",
        "20. Explain the difference between a list and a dictionary in terms of data retrieval.\n",
        "  - We can access data in list using index value as it is ordered, whereas dictionary is unordered and we can only access the data using keys not index.\n",
        "\n",
        "---\n",
        "\n"
      ],
      "metadata": {
        "id": "R0L9jP1zab2l"
      }
    },
    {
      "cell_type": "markdown",
      "source": [
        "## ***PRACTICAL QUESTIONS***"
      ],
      "metadata": {
        "id": "FkgXossZcKzC"
      }
    },
    {
      "cell_type": "markdown",
      "source": [
        "1. Write a code to create a string with your name and print it."
      ],
      "metadata": {
        "id": "2gwrd_EIacKQ"
      }
    },
    {
      "cell_type": "code",
      "source": [
        "name = \"Ritesh\"\n",
        "print(name)"
      ],
      "metadata": {
        "colab": {
          "base_uri": "https://localhost:8080/"
        },
        "id": "cMedrw2NcUU2",
        "outputId": "635b36c3-466b-48bd-8cf2-85398ebaf51a"
      },
      "execution_count": 1,
      "outputs": [
        {
          "output_type": "stream",
          "name": "stdout",
          "text": [
            "Ritesh\n"
          ]
        }
      ]
    },
    {
      "cell_type": "markdown",
      "source": [
        "2.  Write a code to find the length of the string \"Hello World\"."
      ],
      "metadata": {
        "id": "TrQXMqvBdPXF"
      }
    },
    {
      "cell_type": "code",
      "source": [
        "str1 = \"Hello World\"\n",
        "print(len(str1))"
      ],
      "metadata": {
        "colab": {
          "base_uri": "https://localhost:8080/"
        },
        "id": "24ej0YFJdSs3",
        "outputId": "e372a6c3-4934-4226-ddda-829c3c10ffb6"
      },
      "execution_count": 2,
      "outputs": [
        {
          "output_type": "stream",
          "name": "stdout",
          "text": [
            "11\n"
          ]
        }
      ]
    },
    {
      "cell_type": "markdown",
      "source": [
        "3. Write a code to slice the first 3 characters from the string \"Python Programming\"."
      ],
      "metadata": {
        "id": "2NX6KeyKdUz-"
      }
    },
    {
      "cell_type": "code",
      "source": [
        "str1 = \"Python Programming\"\n",
        "print(str1[:3])"
      ],
      "metadata": {
        "colab": {
          "base_uri": "https://localhost:8080/"
        },
        "id": "3QVXRDf8erla",
        "outputId": "9359217d-bace-4a2a-962e-e3bc5c79c94d"
      },
      "execution_count": 3,
      "outputs": [
        {
          "output_type": "stream",
          "name": "stdout",
          "text": [
            "Pyt\n"
          ]
        }
      ]
    },
    {
      "cell_type": "markdown",
      "source": [
        "4. Write a code to convert the string \"hello\" to uppercase."
      ],
      "metadata": {
        "id": "u2wkJhhVdUx-"
      }
    },
    {
      "cell_type": "code",
      "source": [
        "str1 = \"hello\"\n",
        "str1_upper = str1.upper()\n",
        "print(str1_upper)"
      ],
      "metadata": {
        "colab": {
          "base_uri": "https://localhost:8080/"
        },
        "id": "phV2q1Coes-q",
        "outputId": "d8fadb72-132f-4628-a5b0-9e192b593d5d"
      },
      "execution_count": 4,
      "outputs": [
        {
          "output_type": "stream",
          "name": "stdout",
          "text": [
            "HELLO\n"
          ]
        }
      ]
    },
    {
      "cell_type": "markdown",
      "source": [
        "5. Write a code to replace the word \"apple\" with \"orange\" in the string \"I like apple\"."
      ],
      "metadata": {
        "id": "JFZ-FzFFdUtc"
      }
    },
    {
      "cell_type": "code",
      "source": [
        "fruit = \"i like apple\"\n",
        "new_fruit = fruit.replace(\"apple\", \"orange\")\n",
        "print(new_fruit)"
      ],
      "metadata": {
        "colab": {
          "base_uri": "https://localhost:8080/"
        },
        "id": "FLw3dsRDeuBT",
        "outputId": "ac9b8d15-8780-4efd-ca33-f4d743efd854"
      },
      "execution_count": 6,
      "outputs": [
        {
          "output_type": "stream",
          "name": "stdout",
          "text": [
            "i like apple\n"
          ]
        }
      ]
    },
    {
      "cell_type": "markdown",
      "source": [
        "6. Write a code to create a list with numbers 1 to 5 and print it."
      ],
      "metadata": {
        "id": "XGc6r4TedUrG"
      }
    },
    {
      "cell_type": "code",
      "source": [
        "list1 = [1, 2, 3, 4, 5]\n",
        "print(list1)"
      ],
      "metadata": {
        "colab": {
          "base_uri": "https://localhost:8080/"
        },
        "id": "rTJGEyB-euzd",
        "outputId": "63a7f6a0-cebe-47ac-bb4c-40ca22d4130e"
      },
      "execution_count": 7,
      "outputs": [
        {
          "output_type": "stream",
          "name": "stdout",
          "text": [
            "[1, 2, 3, 4, 5]\n"
          ]
        }
      ]
    },
    {
      "cell_type": "markdown",
      "source": [
        "7. Write a code to append the number 10 to the list [1, 2, 3, 4]."
      ],
      "metadata": {
        "id": "jqN1nVPWdUol"
      }
    },
    {
      "cell_type": "code",
      "source": [
        "list1 = [1, 2, 3, 4]\n",
        "list1.append(10)\n",
        "print(list1)\n"
      ],
      "metadata": {
        "colab": {
          "base_uri": "https://localhost:8080/"
        },
        "id": "6YCJsAd-evf7",
        "outputId": "0622f53b-59a2-4e37-c841-71b1eee16ff8"
      },
      "execution_count": 8,
      "outputs": [
        {
          "output_type": "stream",
          "name": "stdout",
          "text": [
            "[1, 2, 3, 4, 10]\n"
          ]
        }
      ]
    },
    {
      "cell_type": "markdown",
      "source": [
        "8. Write a code to remove the number 3 from the list [1, 2, 3, 4, 5]."
      ],
      "metadata": {
        "id": "EcE6v0IUdUmJ"
      }
    },
    {
      "cell_type": "code",
      "source": [
        "list1 = [1, 2, 3, 4, 5]\n",
        "list1.remove(3)\n",
        "print(list1)"
      ],
      "metadata": {
        "colab": {
          "base_uri": "https://localhost:8080/"
        },
        "id": "8CWJpY7iewN8",
        "outputId": "98721587-3d8c-4fd4-941a-5e111dc184da"
      },
      "execution_count": 9,
      "outputs": [
        {
          "output_type": "stream",
          "name": "stdout",
          "text": [
            "[1, 2, 4, 5]\n"
          ]
        }
      ]
    },
    {
      "cell_type": "markdown",
      "source": [
        "9. Write a code to access the second element in the list ['a', 'b', 'c', 'd']."
      ],
      "metadata": {
        "id": "ppY4QQUQdUjm"
      }
    },
    {
      "cell_type": "code",
      "source": [
        "list1 = ['a','b','c','d']\n",
        "print(list1[1])"
      ],
      "metadata": {
        "colab": {
          "base_uri": "https://localhost:8080/"
        },
        "id": "vl0CAKm0ew1k",
        "outputId": "4de1507e-78e3-458a-c5b2-a3fa5478f08b"
      },
      "execution_count": 10,
      "outputs": [
        {
          "output_type": "stream",
          "name": "stdout",
          "text": [
            "b\n"
          ]
        }
      ]
    },
    {
      "cell_type": "markdown",
      "source": [
        "10. Write a code to reverse the list [10, 20, 30, 40, 50]."
      ],
      "metadata": {
        "id": "Yn3bsvAGdUhK"
      }
    },
    {
      "cell_type": "code",
      "source": [
        "list1 = [10, 20, 30, 40, 50]\n",
        "print(list1[::-1])"
      ],
      "metadata": {
        "colab": {
          "base_uri": "https://localhost:8080/"
        },
        "id": "iCg1eGQ8exbt",
        "outputId": "19691a3e-e60f-4eed-9667-c8b04aaff195"
      },
      "execution_count": 11,
      "outputs": [
        {
          "output_type": "stream",
          "name": "stdout",
          "text": [
            "[50, 40, 30, 20, 10]\n"
          ]
        }
      ]
    },
    {
      "cell_type": "markdown",
      "source": [
        "11. Write a code to create a tuple with the elements 100, 200, 300 and print it."
      ],
      "metadata": {
        "id": "PeZy-m-KdUfR"
      }
    },
    {
      "cell_type": "code",
      "source": [
        "tup1 = (100, 200, 300)\n",
        "print(tup1)"
      ],
      "metadata": {
        "colab": {
          "base_uri": "https://localhost:8080/"
        },
        "id": "2l73KuPGex9t",
        "outputId": "b784dc8d-17ed-47a1-b4b0-f4c315cfb4e6"
      },
      "execution_count": 12,
      "outputs": [
        {
          "output_type": "stream",
          "name": "stdout",
          "text": [
            "(100, 200, 300)\n"
          ]
        }
      ]
    },
    {
      "cell_type": "markdown",
      "source": [
        "12. Write a code to access the second-to-last element of the tuple ('red', 'green', 'blue', 'yellow')."
      ],
      "metadata": {
        "id": "XPhSIUMFdUc4"
      }
    },
    {
      "cell_type": "code",
      "source": [
        "tup1 = ('red', 'green', 'blue', 'yellow')\n",
        "print(tup1[1:])"
      ],
      "metadata": {
        "colab": {
          "base_uri": "https://localhost:8080/"
        },
        "id": "_llL8HXLeytA",
        "outputId": "73fbf99e-0a7e-48b7-ba0a-4e06d4bea52f"
      },
      "execution_count": 13,
      "outputs": [
        {
          "output_type": "stream",
          "name": "stdout",
          "text": [
            "('green', 'blue', 'yellow')\n"
          ]
        }
      ]
    },
    {
      "cell_type": "markdown",
      "source": [
        "13. Write a code to find the minimum number in the tuple (10, 20, 5, 15)."
      ],
      "metadata": {
        "id": "IFO_bNHJdUan"
      }
    },
    {
      "cell_type": "code",
      "source": [
        "tup1 = (10, 20, 5, 15)\n",
        "print(min(tup1))"
      ],
      "metadata": {
        "colab": {
          "base_uri": "https://localhost:8080/"
        },
        "id": "pCw5qxi-ezfJ",
        "outputId": "6240c96c-5fd1-4377-de5f-ce84c72aaaba"
      },
      "execution_count": 14,
      "outputs": [
        {
          "output_type": "stream",
          "name": "stdout",
          "text": [
            "5\n"
          ]
        }
      ]
    },
    {
      "cell_type": "markdown",
      "source": [
        "14. Write a code to find the index of the element \"cat\" in the tuple ('dog', 'cat', 'rabbit')."
      ],
      "metadata": {
        "id": "7ZQhIFsMdUYH"
      }
    },
    {
      "cell_type": "code",
      "source": [
        "tup1 = ('dog', 'cat', 'rabbit')\n",
        "print(tup1.index('cat'))"
      ],
      "metadata": {
        "colab": {
          "base_uri": "https://localhost:8080/"
        },
        "id": "IPYt98PAe0E1",
        "outputId": "728a728a-0fc6-4669-89bf-a8e4a3b2f8ac"
      },
      "execution_count": 16,
      "outputs": [
        {
          "output_type": "stream",
          "name": "stdout",
          "text": [
            "1\n"
          ]
        }
      ]
    },
    {
      "cell_type": "markdown",
      "source": [
        "15. Write a code to create a tuple containing three different fruits and check if \"kiwi\" is in it."
      ],
      "metadata": {
        "id": "L0IA003OdUVu"
      }
    },
    {
      "cell_type": "code",
      "source": [
        "tup1 = ('apple', 'banana', 'kiwi')\n",
        "print('kiwi' in tup1)\n",
        "\n",
        "tup2 = ('apple', 'banana', 'grapes')\n",
        "print('kiwi' in tup2)"
      ],
      "metadata": {
        "colab": {
          "base_uri": "https://localhost:8080/"
        },
        "id": "SEk3z4vne0si",
        "outputId": "0f6f78c0-4156-41f8-e2a9-fcc99e1e91cd"
      },
      "execution_count": 18,
      "outputs": [
        {
          "output_type": "stream",
          "name": "stdout",
          "text": [
            "True\n",
            "False\n"
          ]
        }
      ]
    },
    {
      "cell_type": "markdown",
      "source": [
        "16. Write a code to create a set with the elements 'a', 'b', 'c' and print it."
      ],
      "metadata": {
        "id": "9aZTacb5dUTi"
      }
    },
    {
      "cell_type": "code",
      "source": [
        "set1 = {'a', 'b', 'c'}\n",
        "print(set1)"
      ],
      "metadata": {
        "colab": {
          "base_uri": "https://localhost:8080/"
        },
        "id": "jCwuJT2Pe1Xq",
        "outputId": "c4ed8dd0-20b0-48a3-e507-e2725a3c44fa"
      },
      "execution_count": 19,
      "outputs": [
        {
          "output_type": "stream",
          "name": "stdout",
          "text": [
            "{'c', 'b', 'a'}\n"
          ]
        }
      ]
    },
    {
      "cell_type": "markdown",
      "source": [
        "17. Write a code to clear all elements from the set {1, 2, 3, 4, 5}."
      ],
      "metadata": {
        "id": "0IgU9OxDdURR"
      }
    },
    {
      "cell_type": "code",
      "source": [
        "set1 = {1, 2, 3, 4, 5}\n",
        "set1.clear()\n",
        "print(set1)"
      ],
      "metadata": {
        "colab": {
          "base_uri": "https://localhost:8080/"
        },
        "id": "NZCARMXUe2CM",
        "outputId": "3caf6c08-849d-4f60-d2aa-d6e7f92befbc"
      },
      "execution_count": 20,
      "outputs": [
        {
          "output_type": "stream",
          "name": "stdout",
          "text": [
            "set()\n"
          ]
        }
      ]
    },
    {
      "cell_type": "markdown",
      "source": [
        "18. Write a code to remove the element 4 from the set {1, 2, 3, 4}."
      ],
      "metadata": {
        "id": "TZj1YR1cdUPD"
      }
    },
    {
      "cell_type": "code",
      "source": [
        "set1 = {1, 2, 3, 4}\n",
        "set1.remove(4)\n",
        "print(set1)"
      ],
      "metadata": {
        "colab": {
          "base_uri": "https://localhost:8080/"
        },
        "id": "qZqAjU7ye2ua",
        "outputId": "95554a7c-9f97-4cb5-a11d-49323fd93a87"
      },
      "execution_count": 21,
      "outputs": [
        {
          "output_type": "stream",
          "name": "stdout",
          "text": [
            "{1, 2, 3}\n"
          ]
        }
      ]
    },
    {
      "cell_type": "markdown",
      "source": [
        "19. Write a code to find the union of two sets {1, 2, 3} and {3, 4, 5}."
      ],
      "metadata": {
        "id": "tdvC7mQwdUMm"
      }
    },
    {
      "cell_type": "code",
      "source": [
        "set1 = {1, 2, 3}\n",
        "set2 = {3, 4, 5}\n",
        "print(set1.union(set2))\n"
      ],
      "metadata": {
        "colab": {
          "base_uri": "https://localhost:8080/"
        },
        "id": "DnWCPyHZe31i",
        "outputId": "bfab4654-2da3-4136-b03a-0a3fdd4c8bf4"
      },
      "execution_count": 26,
      "outputs": [
        {
          "output_type": "stream",
          "name": "stdout",
          "text": [
            "{1, 2, 3, 4, 5}\n"
          ]
        }
      ]
    },
    {
      "cell_type": "markdown",
      "source": [
        "20. Write a code to find the intersection of two sets {1, 2, 3} and {2, 3, 4}.\n",
        "\n"
      ],
      "metadata": {
        "id": "VokufDGtdUJx"
      }
    },
    {
      "cell_type": "code",
      "source": [
        "set1 = {1, 2, 3}\n",
        "set2 = {2, 3, 4}\n",
        "print(set1.intersection(set2))\n"
      ],
      "metadata": {
        "colab": {
          "base_uri": "https://localhost:8080/"
        },
        "id": "7q2YjcaYe3dQ",
        "outputId": "cf0b27d1-2602-4956-a3b0-edeb6331fae3"
      },
      "execution_count": 27,
      "outputs": [
        {
          "output_type": "stream",
          "name": "stdout",
          "text": [
            "{2, 3}\n"
          ]
        }
      ]
    },
    {
      "cell_type": "markdown",
      "source": [
        "21. Write a code to create a dictionary with the keys \"name\", \"age\", and \"city\", and print it.\n"
      ],
      "metadata": {
        "id": "QWH_bQjsdUG_"
      }
    },
    {
      "cell_type": "code",
      "source": [
        "dict1 = {\"name\": \"Ritesh\", \"age\": 21, \"city\": \"Bangalore\"}\n",
        "print(dict1)\n"
      ],
      "metadata": {
        "colab": {
          "base_uri": "https://localhost:8080/"
        },
        "id": "pD2sZ0xGe4nz",
        "outputId": "c903f5b5-a4c9-459a-e0b4-d477dc6f4fdb"
      },
      "execution_count": 30,
      "outputs": [
        {
          "output_type": "stream",
          "name": "stdout",
          "text": [
            "{'name': 'Ritesh', 'age': 21, 'city': 'Bangalore'}\n"
          ]
        }
      ]
    },
    {
      "cell_type": "markdown",
      "source": [
        "22. Write a code to add a new key-value pair \"country\": \"USA\" to the dictionary {'name': 'John', 'age': 25}.\n",
        "\n"
      ],
      "metadata": {
        "id": "gIDUX9dodTrE"
      }
    },
    {
      "cell_type": "code",
      "source": [
        "dict1 = {'name': 'John', 'age': 25}\n",
        "dict1['country']= 'USA'\n",
        "\n",
        "# or\n",
        "# dict1.update({'country': 'USA'})\n",
        "\n",
        "print(dict1)"
      ],
      "metadata": {
        "colab": {
          "base_uri": "https://localhost:8080/"
        },
        "id": "1IxBr4Zme6yr",
        "outputId": "1776c99c-97b7-4394-d1e1-b5f0b5e58d34"
      },
      "execution_count": 36,
      "outputs": [
        {
          "output_type": "stream",
          "name": "stdout",
          "text": [
            "{'name': 'John', 'age': 25, 'country': 'USA'}\n"
          ]
        }
      ]
    },
    {
      "cell_type": "markdown",
      "source": [
        "23. Write a code to access the value associated with the key \"name\" in the dictionary {'name': 'Alice', 'age': 30}.\n",
        "\n"
      ],
      "metadata": {
        "id": "-0yGEoWRdTiN"
      }
    },
    {
      "cell_type": "code",
      "source": [
        "dict1 = {'name': 'Alice', 'age': 30}\n",
        "print(dict1['name'])"
      ],
      "metadata": {
        "colab": {
          "base_uri": "https://localhost:8080/"
        },
        "id": "nXL_a7Lfe8AF",
        "outputId": "06e118f0-043e-481e-bbc1-d4b40d981dae"
      },
      "execution_count": 39,
      "outputs": [
        {
          "output_type": "stream",
          "name": "stdout",
          "text": [
            "Alice\n"
          ]
        }
      ]
    },
    {
      "cell_type": "markdown",
      "source": [
        "24. Write a code to remove the key \"age\" from the dictionary {'name': 'Bob', 'age': 22, 'city': 'New York'}.\n"
      ],
      "metadata": {
        "id": "19wpZS0IecYy"
      }
    },
    {
      "cell_type": "code",
      "source": [
        "dict1 = {'name': 'Bob', 'age': 22, 'city': 'New York'}\n",
        "dict1.pop('age')\n",
        "print(dict1)"
      ],
      "metadata": {
        "colab": {
          "base_uri": "https://localhost:8080/"
        },
        "id": "eUe0JkaVe7ow",
        "outputId": "1220732f-d820-499d-a34f-30c5e5f3109d"
      },
      "execution_count": 40,
      "outputs": [
        {
          "output_type": "stream",
          "name": "stdout",
          "text": [
            "{'name': 'Bob', 'city': 'New York'}\n"
          ]
        }
      ]
    },
    {
      "cell_type": "markdown",
      "source": [
        "\n",
        "25. Write a code to check if the key \"city\" exists in the dictionary {'name': 'Alice', 'city': 'Paris'}.\n",
        "\n"
      ],
      "metadata": {
        "id": "Wro9eMKAedHF"
      }
    },
    {
      "cell_type": "code",
      "source": [
        "dict1 = {'name': 'Alice', 'city': 'Paris'}\n",
        "# print('city' in dict1)  #can directly print True or False using this\n",
        "\n",
        "if('city' in dict1):\n",
        "  print(\"exists\")\n",
        "else:\n",
        "  print(\"does not exists\")"
      ],
      "metadata": {
        "colab": {
          "base_uri": "https://localhost:8080/"
        },
        "id": "OxM_u0r_e8ti",
        "outputId": "71793979-f77f-4bb1-91f6-2e2f8ee133fd"
      },
      "execution_count": 43,
      "outputs": [
        {
          "output_type": "stream",
          "name": "stdout",
          "text": [
            "exists\n"
          ]
        }
      ]
    },
    {
      "cell_type": "markdown",
      "source": [
        "26. Write a code to create a list, a tuple, and a dictionary, and print them all.\n",
        "\n"
      ],
      "metadata": {
        "id": "0klTxsvqehBM"
      }
    },
    {
      "cell_type": "code",
      "source": [
        "list1 = [\"Rakesh\", \"Ajay\", 17, \"Suraj\"]\n",
        "tup1 = (1,\"Jay\", 2.05)\n",
        "dict1 = {\"name\": \"Ritesh\", \"age\": 21, \"city\": \"Bangalore\"}\n",
        "\n",
        "print(list1)\n",
        "print(tup1)\n",
        "print(dict1)"
      ],
      "metadata": {
        "colab": {
          "base_uri": "https://localhost:8080/"
        },
        "id": "4w1yWuMWfAV1",
        "outputId": "b7163c38-6f6b-4be7-dfdb-a165fcb956d5"
      },
      "execution_count": 47,
      "outputs": [
        {
          "output_type": "stream",
          "name": "stdout",
          "text": [
            "['Rakesh', 'Ajay', 17, 'Suraj']\n",
            "(1, 'Jay', 2.05)\n",
            "{'name': 'Ritesh', 'age': 21, 'city': 'Bangalore'}\n"
          ]
        }
      ]
    },
    {
      "cell_type": "markdown",
      "source": [
        "27. Write a code to create a list of 5 random numbers between 1 and 100, sort it in ascending order, and print the\n",
        "result.(replaced)\n",
        "\n"
      ],
      "metadata": {
        "id": "IghT4nFYeisb"
      }
    },
    {
      "cell_type": "code",
      "source": [
        "list1 = [33, 21, 78, 9, 57]\n",
        "list1.sort()\n",
        "print(list1)"
      ],
      "metadata": {
        "colab": {
          "base_uri": "https://localhost:8080/"
        },
        "id": "nzu3F1l7e-Ag",
        "outputId": "260a93df-70da-4d35-f3f0-9e16ffc1b815"
      },
      "execution_count": 48,
      "outputs": [
        {
          "output_type": "stream",
          "name": "stdout",
          "text": [
            "[9, 21, 33, 57, 78]\n"
          ]
        }
      ]
    },
    {
      "cell_type": "markdown",
      "source": [
        "28. Write a code to create a list with strings and print the element at the third index.\n",
        "\n"
      ],
      "metadata": {
        "id": "slZdT-7SekvY"
      }
    },
    {
      "cell_type": "code",
      "source": [
        "list1 = ['Ritesh', 'Ajay', 'Sanjay', 'Manoj', 'Ravi']\n",
        "print(list1[2])"
      ],
      "metadata": {
        "colab": {
          "base_uri": "https://localhost:8080/"
        },
        "id": "8yG_Pmote_ls",
        "outputId": "63b3e137-7a5c-4304-eead-ab7dc946cf60"
      },
      "execution_count": 49,
      "outputs": [
        {
          "output_type": "stream",
          "name": "stdout",
          "text": [
            "Sanjay\n"
          ]
        }
      ]
    },
    {
      "cell_type": "markdown",
      "source": [
        "29. Write a code to combine two dictionaries into one and print the result.\n",
        "\n"
      ],
      "metadata": {
        "id": "WfTri_ktemEk"
      }
    },
    {
      "cell_type": "code",
      "source": [
        "dict1 = {'name1':'Ritesh', 'age1':21, 'city1': 'Bangalore'}\n",
        "dict2 = {'name2': 'Ravi', 'age2': 22, 'city2': 'Pune' }\n",
        "dict1.update(dict2)\n",
        "print(dict1)"
      ],
      "metadata": {
        "colab": {
          "base_uri": "https://localhost:8080/"
        },
        "id": "0hXOu3F1fBd8",
        "outputId": "9fd28bc1-9e1d-49e7-fe06-b908d1bf1b7d"
      },
      "execution_count": 51,
      "outputs": [
        {
          "output_type": "stream",
          "name": "stdout",
          "text": [
            "{'name1': 'Ritesh', 'age1': 21, 'city1': 'Bangalore', 'name2': 'Ravi', 'age2': 22, 'city2': 'Pune'}\n"
          ]
        }
      ]
    },
    {
      "cell_type": "markdown",
      "source": [
        "30. Write a code to convert a list of strings into a set."
      ],
      "metadata": {
        "id": "btKJSzdgeni2"
      }
    },
    {
      "cell_type": "code",
      "source": [
        "list1 = ['1','2','2','Ritesh','Ajay','3','Ajay']\n",
        "convert = set(list1)\n",
        "print(convert)"
      ],
      "metadata": {
        "colab": {
          "base_uri": "https://localhost:8080/"
        },
        "id": "QgKXIssdeoy5",
        "outputId": "f3ee0eea-ca35-4839-990c-e6512a6793ce"
      },
      "execution_count": 55,
      "outputs": [
        {
          "output_type": "stream",
          "name": "stdout",
          "text": [
            "{'Ajay', '3', '2', 'Ritesh', '1'}\n"
          ]
        }
      ]
    }
  ]
}