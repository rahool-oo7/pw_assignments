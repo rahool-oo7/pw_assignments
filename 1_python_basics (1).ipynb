{
  "nbformat": 4,
  "nbformat_minor": 0,
  "metadata": {
    "colab": {
      "provenance": []
    },
    "kernelspec": {
      "name": "python3",
      "display_name": "Python 3"
    },
    "language_info": {
      "name": "python"
    }
  },
  "cells": [
    {
      "cell_type": "markdown",
      "source": [
        "# **ASSIGNMENT 1 - PYTHON BASICS**"
      ],
      "metadata": {
        "id": "EEyeGqiM6TSw"
      }
    },
    {
      "cell_type": "markdown",
      "source": [
        "## ***PYTHON BASICS QUESTIONS***"
      ],
      "metadata": {
        "id": "I5-3lN327k1l"
      }
    },
    {
      "cell_type": "markdown",
      "source": [
        "1. What is Python, and why is it popular?\n",
        "  - Python is a high-level, interpreted and object oriented programming language. It is popular because it is easy to understand, has strong community support and a large number of libraries.\n",
        "\n",
        "\n",
        "---\n",
        "\n",
        "\n",
        "\n",
        "\n",
        "2. What is an interpreter in Python?\n",
        "  - Interpreter runs the python code line by line and translates it to machine code in runtime\n",
        "---\n",
        "\n",
        "3. What are pre-defined keywords in Python?\n",
        "  - Pre-defined keywords are some special keyword, reserved in python used to perform specific tasks. (eg. for, while, if, else)\n",
        "---  \n",
        "\n",
        "4. Can keywords be used as variable names?\n",
        "  - No, keywords cannot be used as a variable because they have pre-defined meaning and using them can cause Syntax Error.\n",
        "---\n",
        "\n",
        "5. What is mutability in Python?\n",
        "  - Mutability is a characteristic where the object can be changed after creation, List are mutable.\n",
        "---\n",
        "\n",
        "6. Why are lists mutable, but tuples are immutable?\n",
        "  - Lists are mutable so their element can be changed after creation whereas Tuples are immutable so their elements cannot be changed after creation.\n",
        "---\n",
        "\n",
        "7. What is the difference between “==” and “is” operators in Python?\n",
        "  - \"==\" is used for comparing, whereas \"is\" is used to compare the memory location of both objects.\n",
        "---\n",
        "\n",
        "8. What are logical operators in Python?\n",
        "  - \"and\", \"or\" and \"not\" are logical operators in python, this basically returns a boolean value after evaluating the expression\n",
        "---\n",
        "\n",
        "9. What is type casting in Python?\n",
        "  - Type casting means you are converting a data type to another data type, basically manipulate data based on your choice. There are two types of this : implicit and explicit.\n",
        "---\n",
        "\n",
        "10. What is the difference between implicit and explicit type casting?\n",
        "  - Implicit type casting are those which are done by python itself without any user interaction whereas explicit type casting means user is converting the datatype from the original to another of their choice using => datatype(value)\n",
        "---\n",
        "\n",
        "11. What is the purpose of conditional statements in Python?\n",
        "  - Conditional statements allow a program to make decisions and run the blocks of code based on whether a condition is True or False.\n",
        "---\n",
        "\n",
        "12. How does the elif statement work?\n",
        "  - elif statements are used when there are many conditions to check. if the \"if\" block is false it comes to \"elif\" block and then \"else\" block.\n",
        "\n",
        "---\n",
        "13. What is the difference between for and while loops?\n",
        "  - while loop needs a exterior initialization which will check for condition, it requires a condition to exit from the loop after updation to avoid infinite loop whereas for loop runs for a specific number of times as described in it, it initializes, accept condition and updates in one go and exits from the loop once the loop's condition is over\n",
        "---\n",
        "\n",
        "14. Describe a scenario where a while loop is more suitable than a for loop.\n",
        "  - when we don't know the exact number of times we need to run the loop, we use while loop there. Example : run loop and take input from user until he gives input as \"0\", so here we will use while loop with condition as (choice != 0)."
      ],
      "metadata": {
        "id": "GBZOYSX67xUd"
      }
    },
    {
      "cell_type": "markdown",
      "source": [
        "## ***PRACTICAL QUESTIONS***"
      ],
      "metadata": {
        "id": "Wl3NuAhQH7hX"
      }
    },
    {
      "cell_type": "markdown",
      "source": [
        "1. Write a Python program to print \"Hello, World!\""
      ],
      "metadata": {
        "id": "CWNWsOqwIafc"
      }
    },
    {
      "cell_type": "code",
      "source": [
        "print(\"Hello, World!\")"
      ],
      "metadata": {
        "id": "HXbhv-VzH5X_"
      },
      "execution_count": null,
      "outputs": []
    },
    {
      "cell_type": "markdown",
      "source": [
        "2. Write a Python program that displays your name and age."
      ],
      "metadata": {
        "id": "AzeXxsRfImy9"
      }
    },
    {
      "cell_type": "code",
      "source": [
        "print(\"Name: Ritesh\")\n",
        "print(\"Age: 21\")"
      ],
      "metadata": {
        "id": "u_OAvCQ9I8Lb"
      },
      "execution_count": null,
      "outputs": []
    },
    {
      "cell_type": "markdown",
      "source": [
        "3. Write code to print all the pre-defined keywords in Python using the keyword library."
      ],
      "metadata": {
        "id": "k-7ngQnaJG69"
      }
    },
    {
      "cell_type": "code",
      "source": [
        "help(\"keywords\")"
      ],
      "metadata": {
        "id": "pVW0EPEBJLui"
      },
      "execution_count": null,
      "outputs": []
    },
    {
      "cell_type": "markdown",
      "source": [
        "4. Write a program that checks if a given word is a Python keyword."
      ],
      "metadata": {
        "id": "CtYzvzH1Jdry"
      }
    },
    {
      "cell_type": "code",
      "source": [
        "import keyword\n",
        "\n",
        "name = input(\"Enter the keyword to check: \")\n",
        "if name in keyword.kwlist:\n",
        "    print(f\"{name} is a keyword\")\n",
        "else:\n",
        "    print(f\"{name} is not a keyword\")"
      ],
      "metadata": {
        "id": "J848Xc5KJb-W"
      },
      "execution_count": null,
      "outputs": []
    },
    {
      "cell_type": "markdown",
      "source": [
        "5. Create a list and tuple in Python, and demonstrate how attempting to change an element works differently for each."
      ],
      "metadata": {
        "id": "Qa28lhZTKdXe"
      }
    },
    {
      "cell_type": "code",
      "source": [
        "list_1 = [1,2,3,4,5]\n",
        "tuple_1 = (1,2,3,4,5)\n",
        "list_1[0] = 0 #changes the first element to 0\n",
        "print(list_1)\n",
        "tuple_1[0] = 0 #gives error as tuple is immutable\n",
        "print(tuple_1)"
      ],
      "metadata": {
        "id": "3LNqLUSWJ6cV"
      },
      "execution_count": null,
      "outputs": []
    },
    {
      "cell_type": "markdown",
      "source": [
        "6.  Write a function to demonstrate the behavior of mutable and immutable arguments."
      ],
      "metadata": {
        "id": "6FCmqvfXK5If"
      }
    },
    {
      "cell_type": "code",
      "source": [
        "# Mutable (List)\n",
        "a = [1,2,3,4,5]\n",
        "print(\"a before : \", a)\n",
        "b = a     #assigning the value of a to b\n",
        "b.append(6)\n",
        "print(\"a is now : \", a)     #changed\n",
        "\n",
        "\n",
        "# Immutable (Integer)\n",
        "c = 10\n",
        "print(\"c before : \", c)\n",
        "d = c      #assigning the value of c to d\n",
        "d = 12\n",
        "print(\"c is now : \", c)     #unchanged\n"
      ],
      "metadata": {
        "id": "iZExteLdK-A4"
      },
      "execution_count": null,
      "outputs": []
    },
    {
      "cell_type": "markdown",
      "source": [
        "7.  Write a program that performs basic arithmetic operations on two user-input numbers."
      ],
      "metadata": {
        "id": "DFVC5bEdK_19"
      }
    },
    {
      "cell_type": "code",
      "source": [
        "a = int(input(\"Enter first number: \"))\n",
        "b = int(input(\"Enter second number: \"))\n",
        "print(\"ADD: \", a+b)\n",
        "print(\"SUBTRACT: \", a-b)\n",
        "print(\"MULTIPLY: \", a*b)\n",
        "print(\"DIVIDE: \", a/b)"
      ],
      "metadata": {
        "id": "NR0UNfN9LCfb"
      },
      "execution_count": null,
      "outputs": []
    },
    {
      "cell_type": "markdown",
      "source": [
        "8.  Write a program to demonstrate the use of logical operators."
      ],
      "metadata": {
        "id": "1Gg_GvlwLDEm"
      }
    },
    {
      "cell_type": "code",
      "source": [
        "a = True\n",
        "b = False\n",
        "c = True\n",
        "d = False\n",
        "print(a and c)\n",
        "print(a and b)\n",
        "print(a or b)\n",
        "print(b or d)\n",
        "print(not b)\n",
        "print(not a)"
      ],
      "metadata": {
        "id": "T729zM3sLDbc"
      },
      "execution_count": null,
      "outputs": []
    },
    {
      "cell_type": "markdown",
      "source": [
        "9.  Write a Python program to convert user input from string to integer, float, and boolean types."
      ],
      "metadata": {
        "id": "1viHa0cXLDuP"
      }
    },
    {
      "cell_type": "code",
      "source": [
        "user_input = input(\"Enter a number: \")\n",
        "print(\"Integer: \", int(user_input))\n",
        "print(\"Float: \", float(user_input))\n",
        "print(\"Boolean: \", bool(user_input))"
      ],
      "metadata": {
        "id": "-epkJjD-LEBP"
      },
      "execution_count": null,
      "outputs": []
    },
    {
      "cell_type": "markdown",
      "source": [
        "10.  Write code to demonstrate type casting with list elements."
      ],
      "metadata": {
        "id": "B_LIUDEHLE1z"
      }
    },
    {
      "cell_type": "code",
      "source": [
        "list_1 = [1,2,3,4,5]\n",
        "print(list_1)\n",
        "\n",
        "list_1[0] = str(list_1[0]) #converting 1st element to string\n",
        "print(list_1)\n",
        "\n",
        "list_1[1] = float(list_1[1]) #converting 2nd element to float\n",
        "print(list_1)\n",
        "\n",
        "list_1[2] = bool(list_1[2]) #converting 3rd element to boolean\n",
        "print(list_1)"
      ],
      "metadata": {
        "id": "KBlg3OtSLFMA"
      },
      "execution_count": null,
      "outputs": []
    },
    {
      "cell_type": "markdown",
      "source": [
        "11.  Write a program that checks if a number is positive, negative, or zero."
      ],
      "metadata": {
        "id": "uk_djAkfLFdX"
      }
    },
    {
      "cell_type": "code",
      "source": [
        "num = int(input(\"Enter a number: \"))\n",
        "if num > 0:\n",
        "  print(\"Positive\")\n",
        "elif num < 0:\n",
        "  print(\"Negative\")\n",
        "else:\n",
        "  print(\"Zero\")"
      ],
      "metadata": {
        "id": "tpQy_v5RLFxi"
      },
      "execution_count": null,
      "outputs": []
    },
    {
      "cell_type": "markdown",
      "source": [
        "12. Write a for loop to print numbers from 1 to 10."
      ],
      "metadata": {
        "id": "xT_o59-6LIE2"
      }
    },
    {
      "cell_type": "code",
      "source": [
        "for i in range(1, 11):\n",
        "  print(i)"
      ],
      "metadata": {
        "id": "SoKD0vjjLIWN"
      },
      "execution_count": null,
      "outputs": []
    },
    {
      "cell_type": "markdown",
      "source": [
        "13.  Write a Python program to find the sum of all even numbers between 1 and 50."
      ],
      "metadata": {
        "id": "xHxsjVBQLImc"
      }
    },
    {
      "cell_type": "code",
      "source": [
        "sum = 0\n",
        "for i in range(1,50): # here i am excluding 50 as it's written BETWEEN\n",
        "  if(i %2 == 0):\n",
        "    sum = sum + i\n",
        "print(sum)"
      ],
      "metadata": {
        "id": "70PGZEThLI3p"
      },
      "execution_count": null,
      "outputs": []
    },
    {
      "cell_type": "markdown",
      "source": [
        "14. Write a program to reverse a string using a while loop."
      ],
      "metadata": {
        "id": "I9KcxpdvLJIm"
      }
    },
    {
      "cell_type": "code",
      "source": [
        "str_input = input(\"Enter a string: \")\n",
        "i = len(str_input) - 1\n",
        "while i >= 0:\n",
        "  print(str_input[i], end=\"\")\n",
        "  i = i - 1"
      ],
      "metadata": {
        "id": "fkQAcJJpLJZ2"
      },
      "execution_count": null,
      "outputs": []
    },
    {
      "cell_type": "markdown",
      "source": [
        "15. Write a Python program to calculate the factorial of a number provided by the user using a while loop."
      ],
      "metadata": {
        "id": "_lgXkJmwLJ0U"
      }
    },
    {
      "cell_type": "code",
      "source": [
        "num = int(input(\"Enter a number: \"))\n",
        "fact = 1\n",
        "\n",
        "for i in range(1, num+1):\n",
        "  fact = fact*i\n",
        "\n",
        "print(f\"Factorial of {num} is {fact}\")"
      ],
      "metadata": {
        "id": "A94SWgN0LKGF"
      },
      "execution_count": null,
      "outputs": []
    }
  ]
}