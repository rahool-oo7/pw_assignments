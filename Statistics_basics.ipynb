{
  "nbformat": 4,
  "nbformat_minor": 0,
  "metadata": {
    "colab": {
      "provenance": []
    },
    "kernelspec": {
      "name": "python3",
      "display_name": "Python 3"
    },
    "language_info": {
      "name": "python"
    }
  },
  "cells": [
    {
      "cell_type": "markdown",
      "source": [
        "##ASSIGNMENT - STATISTICS BASICS"
      ],
      "metadata": {
        "id": "JViC2zMzR63P"
      }
    },
    {
      "cell_type": "markdown",
      "source": [
        "\n",
        "####Question 1\n",
        "What is the difference between descriptive statistics and inferential statistics? Explain with examples.\n",
        "\n",
        "####Answer:\n",
        "**Descriptive Statistics** - It summarizes and describes the data, and describes what the data shows. Example: The average test score of a class is 78.\n",
        "**Inferential Statistics** - It makes predictions about a population based on sample data. Example: Based on a data of 5 student marks(sample), we are predicting total student average marks.\n",
        "\n",
        "---\n",
        "\n",
        "####Question 2\n",
        "What is sampling in statistics? Explain the differences between random and stratified sampling.\n",
        "\n",
        "####Answer:\n",
        "Sampling is the process of selecting a subset of individuals from a population to estimate characteristics of the whole population.\n",
        "**Random sampling** - Every individual of the population has an equal chance of being selected in the sample.\n",
        "**Stratified sampling** - Data is divided into groups and samples are taken from each group to reduce biasness.\n",
        "\n",
        "---\n",
        "\n",
        "####Question 3\n",
        "Define mean, median, and mode. Explain why these measures of central tendency are important.\n",
        "\n",
        "####Answer:\n",
        "**mean** - The arithmetic mid-value of data\n",
        "**median** - The middle value when data is sorted, physical mid-point of data **mode** - The most frequently occurring value\n",
        "These measures help us understand data distribution and are used for summarizing datasets effectively.\n",
        "\n",
        "---\n",
        "\n",
        "####Question 4\n",
        "Explain skewness and kurtosis. What does a positive skew imply about the data?\n",
        "\n",
        "####Answer:\n",
        "**Skewness** - It is the measure of symmetricity of the data\n",
        "**Kurtosis** - It is the measure how peaked or flat the distribution is\n",
        "Positive skew means data has a longer tail on the right side, meaning most values are concentrated on the left of mean\n",
        "\n",
        "---\n"
      ],
      "metadata": {
        "id": "-5NxujFTSBlc"
      }
    },
    {
      "cell_type": "markdown",
      "source": [
        "####Question 5\n",
        "Implement a Python program to compute the mean, median, and mode of a given list of numbers.\n",
        "numbers = [12, 15, 12, 18, 19, 12, 20, 22, 19, 19, 24, 24, 24, 26, 28]"
      ],
      "metadata": {
        "id": "jGuZjWBKTcN7"
      }
    },
    {
      "cell_type": "code",
      "source": [
        "import numpy as np\n",
        "import statistics\n",
        "numbers = [12, 15, 12, 18, 19, 12, 20, 22, 19, 19, 24, 24, 24, 26, 28]\n",
        "print(\"Mean: \", np.mean(numbers))\n",
        "print(\"Median: \", np.median(numbers))\n",
        "print(\"Mode: \", statistics.mode(numbers))"
      ],
      "metadata": {
        "colab": {
          "base_uri": "https://localhost:8080/"
        },
        "id": "EIeduS7fTb6H",
        "outputId": "a2e4fed1-e3c2-4779-fbf8-b83d5d87a439"
      },
      "execution_count": 4,
      "outputs": [
        {
          "output_type": "stream",
          "name": "stdout",
          "text": [
            "Mean:  19.6\n",
            "Median:  19.0\n",
            "Mode:  12\n"
          ]
        }
      ]
    },
    {
      "cell_type": "markdown",
      "source": [
        "####Question 6\n",
        "Compute the covariance and correlation coefficient between the following two datasets using Python:\n",
        "list_x = [10, 20, 30, 40, 50]\n",
        "list_y = [15, 25, 35, 45, 60]"
      ],
      "metadata": {
        "id": "aM6EodhrTmT_"
      }
    },
    {
      "cell_type": "code",
      "source": [
        "import numpy as np\n",
        "list_x = [10, 20, 30, 40, 50]\n",
        "list_y = [15, 25, 35, 45, 60]\n",
        "\n",
        "covariance = np.cov(list_x, list_y, bias=True)[0][1] # fetches cov(x,y) correlation = np.corrcoef(list_x, list_y)[0][1]\n",
        "correlation = np.corrcoef(list_x, list_y)[0][1]\n",
        "\n",
        "print(\"Covariance:\", covariance)\n",
        "print(\"Correlation Coefficient:\", correlation)\n"
      ],
      "metadata": {
        "colab": {
          "base_uri": "https://localhost:8080/"
        },
        "id": "IUX6Q3g0Tovm",
        "outputId": "1f6ba8d6-b4e2-4c7b-b3e0-0b46fb056b83"
      },
      "execution_count": 8,
      "outputs": [
        {
          "output_type": "stream",
          "name": "stdout",
          "text": [
            "Covariance: 220.0\n",
            "Correlation Coefficient: 0.995893206467704\n"
          ]
        }
      ]
    },
    {
      "cell_type": "markdown",
      "source": [
        "####Question 7\n",
        "Write a Python script to draw a boxplot for the following numeric list and identify its outliers. Explain the result.\n",
        "data = [12, 14, 14, 15, 18, 19, 19, 21, 22, 22, 23, 23, 24, 26, 29,35]\n",
        "\n",
        "\n",
        "####Answer\n",
        "The boxplot highlights Q1, Q3, and median(Q2)\n",
        "Values outside the whiskers are considered outliers\n",
        "35 is treated as an outlier"
      ],
      "metadata": {
        "id": "tH-jpSNJUA3s"
      }
    },
    {
      "cell_type": "code",
      "source": [
        "import matplotlib.pyplot as plt\n",
        "data = [12, 14, 14, 15, 18, 19, 19, 21, 22, 22, 23, 23, 24, 26, 29, 35]\n",
        "plt.boxplot(data)\n",
        "plt.title(\"Boxplot of Data\")\n",
        "plt.show()"
      ],
      "metadata": {
        "colab": {
          "base_uri": "https://localhost:8080/",
          "height": 452
        },
        "id": "HSa0eyWET0J1",
        "outputId": "f503ab8a-78b8-4780-b7a2-789388b1cd39"
      },
      "execution_count": 9,
      "outputs": [
        {
          "output_type": "display_data",
          "data": {
            "text/plain": [
              "<Figure size 640x480 with 1 Axes>"
            ],
            "image/png": "[encoded data removed]"
          },
          "metadata": {}
        }
      ]
    },
    {
      "cell_type": "markdown",
      "source": [
        "####Question 8\n",
        "You are working as a data analyst in an e-commerce company.\n",
        "The marketing team wants to know if there is a relationship between advertising spend and daily sales.\n",
        "● Explain how you would use covariance and correlation to explore this relationship. ● Write Python code to compute the correlation between the two lists:\n",
        "advertising_spend = [200, 250, 300, 400, 500]\n",
        "daily_sales = [2200, 2450, 2750, 3200, 4000]\n",
        "\n",
        "\n",
        "####Answer\n",
        "We can use covariance to understand the direction of the relationship We can use correlation to measure the strength of the relationship"
      ],
      "metadata": {
        "id": "7wmxDpC8URgY"
      }
    },
    {
      "cell_type": "code",
      "source": [
        "import numpy as np\n",
        "advertising_spend = [200, 250, 300, 400, 500]\n",
        "daily_sales = [2200, 2450, 2750, 3200, 4000]\n",
        "correlation = np.corrcoef(advertising_spend, daily_sales)[0][1]\n",
        "print(\"Correlation:\", correlation)"
      ],
      "metadata": {
        "colab": {
          "base_uri": "https://localhost:8080/"
        },
        "id": "nXmFlx1VUXgl",
        "outputId": "552c80d4-2470-46e2-86bc-f42ade96850d"
      },
      "execution_count": 11,
      "outputs": [
        {
          "output_type": "stream",
          "name": "stdout",
          "text": [
            "Correlation: 0.9935824101653329\n"
          ]
        }
      ]
    },
    {
      "cell_type": "markdown",
      "source": [
        "####Question 9\n",
        "Your team has collected customer satisfaction survey data (scale 1–10) and wants to understand its distribution before launching a new product.\n",
        "● Explain which summary statistics and visualizations you’d use.\n",
        "● Write Python code to create a histogram using Matplotlib for the survey data:\n",
        "survey_scores = [7, 8, 5, 9, 6, 7, 8, 9, 10, 4, 7, 6, 9, 8, 7]\n",
        "\n",
        "####Answer\n",
        "I used mean, standard deviation, and histogram to understand the distribution\n",
        "It helps to identify overall customer sentiment and readiness for a new product launch."
      ],
      "metadata": {
        "id": "oKg6s8DZUd3B"
      }
    },
    {
      "cell_type": "code",
      "source": [
        "import matplotlib.pyplot as plt\n",
        "survey_scores = [7, 8, 5, 9, 6, 7, 8, 9, 10, 4, 7, 6, 9, 8, 7]\n",
        "plt.hist(survey_scores, bins=6)\n",
        "plt.title(\"Customer Satisfaction Histogram\")\n",
        "plt.xlabel(\"Scores\")\n",
        "plt.ylabel(\"Frequency\")\n",
        "plt.show()"
      ],
      "metadata": {
        "colab": {
          "base_uri": "https://localhost:8080/",
          "height": 472
        },
        "id": "NVbRqr5VUYzF",
        "outputId": "3c133678-5b03-418f-822f-6a02adc8193f"
      },
      "execution_count": 12,
      "outputs": [
        {
          "output_type": "display_data",
          "data": {
            "text/plain": [
              "<Figure size 640x480 with 1 Axes>"
            ],
            "image/png": "[encoded data removed]"
          },
          "metadata": {}
        }
      ]
    }
  ]
}