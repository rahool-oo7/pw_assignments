{
  "nbformat": 4,
  "nbformat_minor": 0,
  "metadata": {
    "colab": {
      "provenance": []
    },
    "kernelspec": {
      "name": "python3",
      "display_name": "Python 3"
    },
    "language_info": {
      "name": "python"
    }
  },
  "cells": [
    {
      "cell_type": "markdown",
      "source": [
        "# **ASSIGNMENT 5 - FILES AND EXCEPTION HANDLING**"
      ],
      "metadata": {
        "id": "ORUBH0fvjXSi"
      }
    },
    {
      "cell_type": "markdown",
      "source": [
        "## ***Files, exceptional handling, logging and memory management Questions***"
      ],
      "metadata": {
        "id": "nvb7dJdijmsE"
      }
    },
    {
      "cell_type": "markdown",
      "source": [
        "1. What is the difference between interpreted and compiled languages?\n",
        "  - Interpreted languages are executed line by line, and compiled languages translate code into machine code before execution.\n",
        "  ---\n",
        "2. What is exception handling in Python?\n",
        "  - Exception handling is basically handling Errors in code during the runtime without stopping or crashing the program using -> try, except blocks.\n",
        "  ---\n",
        "3. What is the purpose of the finally block in exception handling?\n",
        "  - The purpose of the finally block is that it executes code regardless of whether an exception occurred, usually for cleanup tasks like closing files.\n",
        "  ---\n",
        "4. What is logging in Python?\n",
        "  - Logging is the way of recording an event, or error or exeution details for monitoring the code execution or debugging it.\n",
        "  ---\n",
        "5. What is the significance of the __del__ method in Python?\n",
        "  - The significance of the __del__ method is that it's a destructor, it is called when we need to delete an object.\n",
        "  ---\n",
        "6. What is the difference between import and from ... import in Python?\n",
        "  - import -> This imports the entire module, whereas,    \n",
        "  from ... import -> This imports some specific functions, classes or variables from a module\n",
        "  ---\n",
        "7. How can you handle multiple exceptions in Python?\n",
        "  - We can handle multiple exceptions, for that we can use multiple except blocks for different errors separately.\n",
        "  ---\n",
        "8. What is the purpose of the with statement when handling files in Python?\n",
        "  - It handles file opening and closing, even if errors occur, ensuring the management of files.\n",
        "  ---\n",
        "9. What is the difference between multithreading and multiprocessing?\n",
        "  - Multithreading uses multiple threads within the same process, while multiprocessing uses separate processes with their own memory.\n",
        "  ---\n",
        "10. What are the advantages of using logging in a program?\n",
        "  - Logging helps to record or log information or events like, errors, execution details and monitor or debug the code.\n",
        "  ---\n",
        "11. What is memory management in Python?\n",
        "  - Memory management in Python means automatically handling the storage and removal of data in memory.\n",
        "  ---\n",
        "12. What are the basic steps involved in exception handling in Python?\n",
        "  - Write code in 'try', catch errors in 'except', use 'else' for no-error cases, and 'finally' for cleanup.\n",
        "  ---\n",
        "13. Why is memory management important in Python?\n",
        "  - Memory management is important because it prevents memory leaks, optimises performance, and ensures efficient resource use.\n",
        "  ---\n",
        "14. What is the role of try and except in exception handling?\n",
        "  - Try block has the code which might cause error during runtime, except block handles the error without crashing the program.\n",
        "  ---\n",
        "15. How does Python's garbage collection system work?\n",
        "  - Python's garbage collection system automatically frees memory by deleting unused objects, using reference counting and cyclic garbage collector.\n",
        "  ---\n",
        "16. What is the purpose of the else block in exception handling?\n",
        "  - If the try clock run succesfully without an error then the code inside else block is executed.\n",
        "  ---\n",
        "17. What are the common logging levels in Python?\n",
        "  - There are five levels in logging: 1. DEBUG  2. INFO  3. WARNING  4. ERROR 5. CRITICAL\n",
        "  ---\n",
        "18. What is the difference between os.fork() and multiprocessing in Python?\n",
        "  -  os.fork() creates a new process at the OS level, while multiprocessing is a Python library for cross-platform process creation.\n",
        "  ---\n",
        "19. What is the importance of closing a file in Python?\n",
        "  - The importance of closing a file is that it ensures changes are saved and the resource is released.\n",
        "  ---\n",
        "20. What is the difference between file.read() and file.readline() in Python?\n",
        "  - read() reads the entire file, whereas readline() reads a single line.\n",
        "  ---\n",
        "21. What is the logging module in Python used for?\n",
        "  - The logging module is used to track events, errors, and status during program execution for debugging and monitoring.\n",
        "  ---\n",
        "22. What is the os module in Python used for in file handling?\n",
        "  - The os module in Python lets you interact with the operating system for tasks like creating, deleting, or moving files and folders.\n",
        "  ---\n",
        "23. What are the challenges associated with memory management in Python?\n",
        "  - Challenges are detecting memory leaks, handling cyclic references, and optimizing large data structures.\n",
        "  ---\n",
        "24. How do you raise an exception manually in Python?\n",
        "  - By using the 'raise' statement with an exception, we can manually raise an exception. e.g. raise ValueError(\"Invalid input\").\n",
        "  ---\n",
        "25. Why is it important to use multithreading in certain applications?\n",
        "  - Multithreading lets a program do multiple tasks at the same time, making it faster and more responsive. It’s useful for tasks like downloading files, handling user input, or processing data in the background.\n",
        "---"
      ],
      "metadata": {
        "id": "n8EkWZqyj6wz"
      }
    },
    {
      "cell_type": "markdown",
      "source": [
        "## ***PRACTICAL QUESTIONS***"
      ],
      "metadata": {
        "id": "1YGNP75xs8AN"
      }
    },
    {
      "cell_type": "markdown",
      "source": [
        "1. How can you open a file for writing in Python and write a string to it?"
      ],
      "metadata": {
        "id": "0NC9_IOwtHKN"
      }
    },
    {
      "cell_type": "code",
      "source": [
        "f= open('sample.txt', 'w')\n",
        "f.write('Hello World!')\n",
        "f.close()"
      ],
      "metadata": {
        "id": "Hii5HIinvIg2"
      },
      "execution_count": 53,
      "outputs": []
    },
    {
      "cell_type": "markdown",
      "source": [
        "2. Write a Python program to read the contents of a file and print each line"
      ],
      "metadata": {
        "id": "LxSU_EjstVam"
      }
    },
    {
      "cell_type": "code",
      "source": [
        "f = open('sample.txt', 'r')\n",
        "print(f.read())\n",
        "f.close()"
      ],
      "metadata": {
        "colab": {
          "base_uri": "https://localhost:8080/"
        },
        "id": "zIC0haWlvaVZ",
        "outputId": "d9dd0095-cd2a-4da4-d1b6-1269053f9c03"
      },
      "execution_count": 54,
      "outputs": [
        {
          "output_type": "stream",
          "name": "stdout",
          "text": [
            "Hello World!\n"
          ]
        }
      ]
    },
    {
      "cell_type": "markdown",
      "source": [
        "3. How would you handle a case where the file doesn't exist while trying to open it for reading?"
      ],
      "metadata": {
        "id": "kJiBaNOztVYK"
      }
    },
    {
      "cell_type": "code",
      "source": [
        "try:\n",
        "  f = open('hello.txt', 'r')\n",
        "  print(f.read())\n",
        "  f.close()\n",
        "except FileNotFoundError:\n",
        "  print('File not found')"
      ],
      "metadata": {
        "colab": {
          "base_uri": "https://localhost:8080/"
        },
        "id": "8M0wdpXtvhk8",
        "outputId": "217a6bc0-7f3b-406b-85d2-09a947860fe8"
      },
      "execution_count": 55,
      "outputs": [
        {
          "output_type": "stream",
          "name": "stdout",
          "text": [
            "File not found\n"
          ]
        }
      ]
    },
    {
      "cell_type": "markdown",
      "source": [
        "4. Write a Python script that reads from one file and writes its content to another file."
      ],
      "metadata": {
        "id": "f1VxxSzKtVVj"
      }
    },
    {
      "cell_type": "code",
      "source": [
        "f = open('sample.txt', 'r')\n",
        "f1 = open('sample1.txt', 'w')\n",
        "f1.write(f.read())\n",
        "f.close()\n",
        "f1.close()"
      ],
      "metadata": {
        "id": "i1x621QhvxWf"
      },
      "execution_count": 56,
      "outputs": []
    },
    {
      "cell_type": "markdown",
      "source": [
        "5. How would you catch and handle division by zero error in Python?"
      ],
      "metadata": {
        "id": "DWzvCtArtVSs"
      }
    },
    {
      "cell_type": "code",
      "source": [
        "try:\n",
        "  a = 10/0\n",
        "except ZeroDivisionError:\n",
        "  print('Division by zero error')"
      ],
      "metadata": {
        "colab": {
          "base_uri": "https://localhost:8080/"
        },
        "id": "5SZbdXilv9lv",
        "outputId": "21e0aa9e-89c7-4312-dc79-4266cf0353e2"
      },
      "execution_count": 57,
      "outputs": [
        {
          "output_type": "stream",
          "name": "stdout",
          "text": [
            "Division by zero error\n"
          ]
        }
      ]
    },
    {
      "cell_type": "markdown",
      "source": [
        "6. Write a Python program that logs an error message to a log file when a division by zero exception occurs."
      ],
      "metadata": {
        "id": "NlMc_LLjtVQR"
      }
    },
    {
      "cell_type": "code",
      "source": [
        "try:\n",
        "  a = 10/0\n",
        "except ZeroDivisionError:\n",
        "  f = open('log.txt', 'w')\n",
        "  f.write('Division by zero error')\n",
        "  f.close()"
      ],
      "metadata": {
        "id": "MH9xRR3qwHqd"
      },
      "execution_count": 58,
      "outputs": []
    },
    {
      "cell_type": "markdown",
      "source": [
        "7. How do you log information at different levels (INFO, ERROR, WARNING) in Python using the logging module?"
      ],
      "metadata": {
        "id": "1Vs7JLTntVNj"
      }
    },
    {
      "cell_type": "code",
      "source": [
        "import logging\n",
        "logging.basicConfig(filename='log.txt', level=logging.INFO)\n",
        "logging.info('This is an info message')\n",
        "logging.error('This is an error message')\n",
        "logging.warning('This is a warning message')"
      ],
      "metadata": {
        "colab": {
          "base_uri": "https://localhost:8080/"
        },
        "id": "SJyCYkUKwWr_",
        "outputId": "fc369d4b-ed02-410d-9566-b538f5ebc39f"
      },
      "execution_count": 59,
      "outputs": [
        {
          "output_type": "stream",
          "name": "stderr",
          "text": [
            "ERROR:root:This is an error message\n",
            "WARNING:root:This is a warning message\n"
          ]
        }
      ]
    },
    {
      "cell_type": "markdown",
      "source": [
        "8. Write a program to handle a file opening error using exception handling."
      ],
      "metadata": {
        "id": "1ujK-QvftVK3"
      }
    },
    {
      "cell_type": "code",
      "source": [
        "try:\n",
        "  f = open('hello.txt', 'r')\n",
        "  print(f.read())\n",
        "  f.close()\n",
        "except FileNotFoundError:\n",
        "  print('File not found')"
      ],
      "metadata": {
        "colab": {
          "base_uri": "https://localhost:8080/"
        },
        "id": "EU1YoMJRwuNq",
        "outputId": "2521b3ef-7da9-48f0-af14-8f96f8b4aa41"
      },
      "execution_count": 60,
      "outputs": [
        {
          "output_type": "stream",
          "name": "stdout",
          "text": [
            "File not found\n"
          ]
        }
      ]
    },
    {
      "cell_type": "markdown",
      "source": [
        "9. How can you read a file line by line and store its content in a list in Python?"
      ],
      "metadata": {
        "id": "pSQAndBAtVIH"
      }
    },
    {
      "cell_type": "code",
      "source": [
        "f = open('sample.txt', 'r')\n",
        "l = []\n",
        "for line in f:\n",
        "  l.append(line)\n",
        "print(l)\n",
        "f.close()"
      ],
      "metadata": {
        "colab": {
          "base_uri": "https://localhost:8080/"
        },
        "id": "FxVjmCADw4H-",
        "outputId": "f8d9f471-6f02-43d5-e504-1feabcda778f"
      },
      "execution_count": 61,
      "outputs": [
        {
          "output_type": "stream",
          "name": "stdout",
          "text": [
            "['Hello World!']\n"
          ]
        }
      ]
    },
    {
      "cell_type": "markdown",
      "source": [
        "10. How can you append data to an existing file in Python?"
      ],
      "metadata": {
        "id": "vViOF5WAtVFR"
      }
    },
    {
      "cell_type": "code",
      "source": [
        "f = open('sample.txt', 'a')\n",
        "f.write('Data Science')\n",
        "f.close()"
      ],
      "metadata": {
        "id": "QTfAr41bxJyD"
      },
      "execution_count": 62,
      "outputs": []
    },
    {
      "cell_type": "markdown",
      "source": [
        "11. Write a Python program that uses a try-except block to handle an error when attempting to access a dictionary key that doesn't exist."
      ],
      "metadata": {
        "id": "-I9Xj5M7tVCn"
      }
    },
    {
      "cell_type": "code",
      "source": [
        "try:\n",
        "  d = {'a': 1, 'b': 2}\n",
        "  print(d['c'])\n",
        "except KeyError:\n",
        "  print('Key not found')"
      ],
      "metadata": {
        "colab": {
          "base_uri": "https://localhost:8080/"
        },
        "id": "ygb8gwqixS8d",
        "outputId": "3a6731fd-2e51-45e9-9aa5-397ffca4b5be"
      },
      "execution_count": 63,
      "outputs": [
        {
          "output_type": "stream",
          "name": "stdout",
          "text": [
            "Key not found\n"
          ]
        }
      ]
    },
    {
      "cell_type": "markdown",
      "source": [
        "12. Write a program that demonstrates using multiple except blocks to handle different types of exceptions."
      ],
      "metadata": {
        "id": "TGh_5eOWtU_y"
      }
    },
    {
      "cell_type": "code",
      "source": [
        "try:\n",
        "  a = 10/0\n",
        "except ZeroDivisionError:\n",
        "  print('Division by zero error')\n",
        "except TypeError:\n",
        "  print('Type error')\n",
        "except ValueError:\n",
        "  print('Value error')"
      ],
      "metadata": {
        "colab": {
          "base_uri": "https://localhost:8080/"
        },
        "id": "wc1n4N8kxa6H",
        "outputId": "9a5acae0-5f17-4634-a8f6-58f7fd4da29e"
      },
      "execution_count": 64,
      "outputs": [
        {
          "output_type": "stream",
          "name": "stdout",
          "text": [
            "Division by zero error\n"
          ]
        }
      ]
    },
    {
      "cell_type": "markdown",
      "source": [
        "13. How would you check if a file exists before attempting to read it in Python?"
      ],
      "metadata": {
        "id": "2k91HWj_tU9N"
      }
    },
    {
      "cell_type": "code",
      "source": [
        "try:\n",
        "  f = open('sample.txt', 'r')\n",
        "  print(f.read())\n",
        "  f.close()\n",
        "except FileNotFoundError:\n",
        "  print('File not found')"
      ],
      "metadata": {
        "colab": {
          "base_uri": "https://localhost:8080/"
        },
        "id": "J9ijpoSuxkp4",
        "outputId": "293231e9-348f-40f6-a378-c57b771729a0"
      },
      "execution_count": 65,
      "outputs": [
        {
          "output_type": "stream",
          "name": "stdout",
          "text": [
            "Hello World!Data Science\n"
          ]
        }
      ]
    },
    {
      "cell_type": "markdown",
      "source": [
        "14. Write a program that uses the logging module to log both informational and error messages."
      ],
      "metadata": {
        "id": "_LBxl_zttU6e"
      }
    },
    {
      "cell_type": "code",
      "source": [
        "import logging\n",
        "logging.basicConfig(filename='log.txt', level=logging.INFO)\n",
        "logging.info('This is an info message')\n",
        "logging.error('This is an error message')"
      ],
      "metadata": {
        "colab": {
          "base_uri": "https://localhost:8080/"
        },
        "id": "svKopG63x8QJ",
        "outputId": "27e06794-5c4a-4528-c46d-5d386e45f1b9"
      },
      "execution_count": 66,
      "outputs": [
        {
          "output_type": "stream",
          "name": "stderr",
          "text": [
            "ERROR:root:This is an error message\n"
          ]
        }
      ]
    },
    {
      "cell_type": "markdown",
      "source": [
        "15. Write a Python program that prints the content of a file and handles the case when the file is empty."
      ],
      "metadata": {
        "id": "d_RLA3DKtU30"
      }
    },
    {
      "cell_type": "code",
      "source": [
        "try:\n",
        "  f = open('sample.txt', 'r')\n",
        "  print(f.read())\n",
        "  f.close()\n",
        "except:\n",
        "  print('File is empty')"
      ],
      "metadata": {
        "colab": {
          "base_uri": "https://localhost:8080/"
        },
        "id": "c-ljybxLyDcC",
        "outputId": "0091660b-c84d-46f7-f69b-a4ec9af79b48"
      },
      "execution_count": 67,
      "outputs": [
        {
          "output_type": "stream",
          "name": "stdout",
          "text": [
            "Hello World!Data Science\n"
          ]
        }
      ]
    },
    {
      "cell_type": "markdown",
      "source": [
        "16. Demonstrate how to use memory profiling to check the memory usage of a small program."
      ],
      "metadata": {
        "id": "s5YVUULMtU1J"
      }
    },
    {
      "cell_type": "code",
      "source": [
        "!pip install memory_profiler\n",
        "from memory_profiler import profile\n",
        "\n",
        "%load_ext memory_profiler\n",
        "\n",
        "def my_function():\n",
        "    nums = [i for i in range(100000)]\n",
        "    return sum(nums)\n",
        "\n",
        "%memit my_function()\n"
      ],
      "metadata": {
        "colab": {
          "base_uri": "https://localhost:8080/"
        },
        "id": "BsnFrgGa0sFw",
        "outputId": "d09c4470-b41d-4238-b389-608f37c98ba7"
      },
      "execution_count": 68,
      "outputs": [
        {
          "output_type": "stream",
          "name": "stdout",
          "text": [
            "Requirement already satisfied: memory_profiler in /usr/local/lib/python3.11/dist-packages (0.61.0)\n",
            "Requirement already satisfied: psutil in /usr/local/lib/python3.11/dist-packages (from memory_profiler) (5.9.5)\n",
            "The memory_profiler extension is already loaded. To reload it, use:\n",
            "  %reload_ext memory_profiler\n",
            "peak memory: 176.90 MiB, increment: 0.00 MiB\n"
          ]
        }
      ]
    },
    {
      "cell_type": "markdown",
      "source": [
        "17.  Write a Python program to create and write a list of numbers to a file, one number per line."
      ],
      "metadata": {
        "id": "NBSQga3qtUyF"
      }
    },
    {
      "cell_type": "code",
      "source": [
        "num = [1, 2, 3, 4, 5]\n",
        "f = open('numbers.txt', 'w')\n",
        "for i in num:\n",
        "  f.write(str(i) + '\\n')\n",
        "f.close()"
      ],
      "metadata": {
        "id": "JLmHpNBKyYsK"
      },
      "execution_count": 69,
      "outputs": []
    },
    {
      "cell_type": "markdown",
      "source": [
        "18.  How would you implement a basic logging setup that logs to a file with rotation after 1MB?"
      ],
      "metadata": {
        "id": "H6XepUzbtUsj"
      }
    },
    {
      "cell_type": "code",
      "source": [
        "import logging\n",
        "from logging.handlers import RotatingFileHandler\n",
        "\n",
        "# Create rotating log handler\n",
        "handler = RotatingFileHandler(\"app.log\", maxBytes=1024*1024, backupCount=2)\n",
        "logging.basicConfig(handlers=[handler], level=logging.INFO)\n",
        "\n",
        "# Example logs\n",
        "for i in range(1000):\n",
        "    logging.info(f\"Log entry {i}\")\n"
      ],
      "metadata": {
        "id": "JSqlZ_WFyhsE"
      },
      "execution_count": 70,
      "outputs": []
    },
    {
      "cell_type": "markdown",
      "source": [
        "19. Write a program that handles both IndexError and KeyError using a try-except block."
      ],
      "metadata": {
        "id": "CTxWByFytUqA"
      }
    },
    {
      "cell_type": "code",
      "source": [
        "try:\n",
        "  l = [1, 2, 3]\n",
        "  print(l[3])\n",
        "except IndexError:\n",
        "  print('Index error')\n",
        "except KeyError:\n",
        "  print('Key error')"
      ],
      "metadata": {
        "colab": {
          "base_uri": "https://localhost:8080/"
        },
        "id": "bzqGBsdiyoKi",
        "outputId": "b21cc1de-225c-4f11-c367-171d8e5480d5"
      },
      "execution_count": 71,
      "outputs": [
        {
          "output_type": "stream",
          "name": "stdout",
          "text": [
            "Index error\n"
          ]
        }
      ]
    },
    {
      "cell_type": "markdown",
      "source": [
        "20. How would you open a file and read its contents using a context manager in Python?"
      ],
      "metadata": {
        "id": "N0EJ86xFtUna"
      }
    },
    {
      "cell_type": "code",
      "source": [
        "with open('sample.txt', 'r') as f:\n",
        "  print(f.read())"
      ],
      "metadata": {
        "colab": {
          "base_uri": "https://localhost:8080/"
        },
        "id": "8-HQaFlXyv4L",
        "outputId": "aa3fe382-4196-4956-e6b8-ca4735d8d03f"
      },
      "execution_count": 72,
      "outputs": [
        {
          "output_type": "stream",
          "name": "stdout",
          "text": [
            "Hello World!Data Science\n"
          ]
        }
      ]
    },
    {
      "cell_type": "markdown",
      "source": [
        "21. Write a Python program that reads a file and prints the number of occurrences of a specific word."
      ],
      "metadata": {
        "id": "i-YLJqy2tUkN"
      }
    },
    {
      "cell_type": "code",
      "source": [
        "with open('sample.txt', 'r') as f:\n",
        "  count = 0\n",
        "  for line in f:\n",
        "    words = line.split()\n",
        "    for i in words:\n",
        "      if i == 'Hello':\n",
        "        count += 1\n",
        "  print(count)"
      ],
      "metadata": {
        "colab": {
          "base_uri": "https://localhost:8080/"
        },
        "id": "fjK1GsR-y-mA",
        "outputId": "8768f91a-3425-415c-b0fd-2e540092e98e"
      },
      "execution_count": 73,
      "outputs": [
        {
          "output_type": "stream",
          "name": "stdout",
          "text": [
            "1\n"
          ]
        }
      ]
    },
    {
      "cell_type": "markdown",
      "source": [
        "22. How can you check if a file is empty before attempting to read its contents?\n",
        "\n"
      ],
      "metadata": {
        "id": "6_lWYWS3tUFz"
      }
    },
    {
      "cell_type": "code",
      "source": [
        "try:\n",
        "  f = open('sample.txt', 'r')\n",
        "  print(f.read())\n",
        "  f.close()\n",
        "except:\n",
        "  print('File is empty')"
      ],
      "metadata": {
        "colab": {
          "base_uri": "https://localhost:8080/"
        },
        "id": "ZjuP1OvbzPPb",
        "outputId": "4083d99e-3578-4d2a-c5ff-d18328a66ecc"
      },
      "execution_count": 74,
      "outputs": [
        {
          "output_type": "stream",
          "name": "stdout",
          "text": [
            "Hello World!Data Science\n"
          ]
        }
      ]
    },
    {
      "cell_type": "markdown",
      "source": [
        "23. Write a Python program that writes to a log file when an error occurs during file handling."
      ],
      "metadata": {
        "id": "zxrKGs4vueDI"
      }
    },
    {
      "cell_type": "code",
      "source": [
        "import logging\n",
        "logging.basicConfig(filename='log.txt', level=logging.INFO)\n",
        "\n",
        "try:\n",
        "  f = open('sample.txt', 'r')\n",
        "  print(f.read())\n",
        "  f.close()\n",
        "except:\n",
        "  logging.error('This is an error message')\n",
        "  print(\"File is empty or doesn't exist\")"
      ],
      "metadata": {
        "colab": {
          "base_uri": "https://localhost:8080/"
        },
        "id": "0q8NYhA1uZK3",
        "outputId": "714f8097-6859-475d-b9cf-8d1f50eb7954"
      },
      "execution_count": 76,
      "outputs": [
        {
          "output_type": "stream",
          "name": "stdout",
          "text": [
            "Hello World!Data Science\n"
          ]
        }
      ]
    }
  ]
}