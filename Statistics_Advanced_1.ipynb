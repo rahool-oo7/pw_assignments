{
  "nbformat": 4,
  "nbformat_minor": 0,
  "metadata": {
    "colab": {
      "provenance": []
    },
    "kernelspec": {
      "name": "python3",
      "display_name": "Python 3"
    },
    "language_info": {
      "name": "python"
    }
  },
  "cells": [
    {
      "cell_type": "markdown",
      "source": [
        "##**ASSIGNMENT - STATISTICS ADVANCED - 1**\n",
        "\n",
        "\n"
      ],
      "metadata": {
        "id": "M4smDgtCBOul"
      }
    },
    {
      "cell_type": "markdown",
      "source": [
        "## **Question 1:**\n",
        "\n",
        "**What is a random variable in probability theory?**\n",
        "\n",
        "**Answer:**\n",
        "A **random variable** is a variable whose values are determined by the outcomes of a random experiment.\n",
        "\n",
        "* Example: If you roll a dice, the random variable **X** can take values from **1 to 6**.\n",
        "\n",
        "---\n",
        "\n",
        "## **Question 2:**\n",
        "\n",
        "**What are the types of random variables?**\n",
        "\n",
        "**Answer:**\n",
        "There are **two main types** of random variables:\n",
        "\n",
        "1. **Discrete Random Variable** → Takes **countable values**.\n",
        "   *Example:* Number of students in a class (10, 20, 30).\n",
        "2. **Continuous Random Variable** → Takes **uncountable/infinite values** within a range.\n",
        "   *Example:* Height of students (165.3 cm, 170.5 cm).\n",
        "\n",
        "---\n",
        "\n",
        "## **Question 3:**\n",
        "\n",
        "**Explain the difference between discrete and continuous distributions.**\n",
        "\n",
        "**Answer:**\n",
        "\n",
        "Sure! Here's the **short version**:\n",
        "\n",
        "* **Discrete distribution** → Outcomes are **countable**; probability is assigned to **specific values**. *(e.g., rolling a die, number of students)*\n",
        "* **Continuous distribution** → Outcomes are **uncountable**; probability is assigned to a **range of values**. *(e.g., height, time, temperature)*\n",
        "\n",
        "\n",
        "---\n",
        "\n",
        "## **Question 4:**\n",
        "\n",
        "**What is a binomial distribution, and how is it used in probability?**\n",
        "\n",
        "**Answer:**\n",
        "The **binomial distribution** gives the probability of getting a certain number of successes in a fixed number of independent trials, where each trial has only **two outcomes**: success or failure.\n",
        "\n",
        "* Example: Tossing a coin **10 times** and finding the probability of getting exactly **6 heads**.\n",
        "\n",
        "---\n",
        "\n",
        "## **Question 5:**\n",
        "\n",
        "**What is the standard normal distribution, and why is it important?**\n",
        "\n",
        "**Answer:**\n",
        "The **standard normal distribution** is a special type of normal distribution where:\n",
        "\n",
        "* **Mean = 0**\n",
        "* **Standard deviation = 1**\n",
        "\n",
        "It is important because:\n",
        "\n",
        "* It helps in **z-score calculations**.\n",
        "* Makes it easier to compare data from different normal distributions.\n",
        "* Widely used in hypothesis testing.\n",
        "\n",
        "---\n",
        "\n",
        "## **Question 6:**\n",
        "\n",
        "**What is the Central Limit Theorem (CLT), and why is it critical in statistics?**\n",
        "\n",
        "**Answer:**\n",
        "The **Central Limit Theorem** says that if we take a large number of random samples from any population, the distribution of the **sample means** will approximate a **normal distribution**, regardless of the population's original shape.\n",
        "\n",
        "**Why it’s important:**\n",
        "\n",
        "* Helps us **estimate population parameters** using sample data.\n",
        "* Forms the basis for **confidence intervals** and **hypothesis testing**.\n",
        "\n",
        "---\n",
        "\n",
        "## **Question 7:**\n",
        "\n",
        "**What is the significance of confidence intervals in statistical analysis?**\n",
        "\n",
        "**Answer:**\n",
        "A **confidence interval (CI)** gives a **range of values** within which we are fairly sure the **true population parameter** lies.\n",
        "\n",
        "* Example: A **95% CI** means we are **95% confident** that the true mean is within this range.\n",
        "* It shows the **uncertainty** of sample estimates.\n",
        "\n",
        "---\n",
        "\n",
        "## **Question 8:**\n",
        "\n",
        "**What is the concept of expected value in a probability distribution?**\n",
        "\n",
        "**Answer:**\n",
        "The **expected value** is the **average value** you would expect if you repeat an experiment **many times**."
      ],
      "metadata": {
        "id": "HS6cBwPf7_5v"
      }
    },
    {
      "cell_type": "markdown",
      "source": [
        "## **Question 9:**\n",
        "\n",
        "**Python Program:** Generate 1000 random numbers from a **normal distribution** with **mean = 50** and **standard deviation = 5**.\n",
        "Compute its mean and standard deviation using **NumPy**, and draw a histogram.\n"
      ],
      "metadata": {
        "id": "RY53HvFz8Zsl"
      }
    },
    {
      "cell_type": "code",
      "execution_count": 13,
      "metadata": {
        "colab": {
          "base_uri": "https://localhost:8080/",
          "height": 465
        },
        "id": "uCwE0kgj7_Yx",
        "outputId": "77bf7c05-84f1-46db-921b-1bf41373dc4d"
      },
      "outputs": [
        {
          "output_type": "stream",
          "name": "stdout",
          "text": [
            "Mean: 50.044281091840965\n",
            "Standard Deviation: 4.95808049949516\n"
          ]
        },
        {
          "output_type": "display_data",
          "data": {
            "text/plain": [
              "<Figure size 640x480 with 1 Axes>"
            ],
            "image/png": "[encoded data removed]"
          },
          "metadata": {}
        }
      ],
      "source": [
        "import numpy as np\n",
        "import matplotlib.pyplot as plt\n",
        "\n",
        "normal = np.random.normal(50, 5, size = 1000)\n",
        "\n",
        "mean = np.mean(normal)\n",
        "std = np.std(normal)\n",
        "\n",
        "print(\"Mean:\", mean)\n",
        "print(\"Standard Deviation:\", std)\n",
        "\n",
        "plt.subplot((2,2))\n",
        "plt.hist(normal, bins = 100)\n",
        "plt.show()\n"
      ]
    },
    {
      "cell_type": "code",
      "source": [
        "import seaborn as sns\n",
        "\n",
        "sns.histplot(normal, bins = 100)"
      ],
      "metadata": {
        "colab": {
          "base_uri": "https://localhost:8080/",
          "height": 447
        },
        "id": "N7TOqQ8rZSzi",
        "outputId": "f991e181-3c33-49bd-ae35-d15190c3b8d3"
      },
      "execution_count": 16,
      "outputs": [
        {
          "output_type": "execute_result",
          "data": {
            "text/plain": [
              "<Axes: ylabel='Count'>"
            ]
          },
          "metadata": {},
          "execution_count": 16
        },
        {
          "output_type": "display_data",
          "data": {
            "text/plain": [
              "<Figure size 640x480 with 1 Axes>"
            ],
            "image/png": "[encoded data removed]"
          },
          "metadata": {}
        }
      ]
    },
    {
      "cell_type": "markdown",
      "source": [
        "## **Question 10:**\n",
        "\n",
        "You are working as a data analyst for a retail company. The company has collected **daily sales data** for **2 years** and wants you to identify the overall sales trend.\n",
        "\n",
        "data = [220, 245, 210, 265, 230, 250, 260, 275, 240, 255,\n",
        " 235, 260, 245, 250, 225, 270, 265, 255, 250, 260]\n",
        "\n",
        "● Explain how you would apply the Central Limit Theorem to estimate the average sales\n",
        "with a 95% confidence interval.\n",
        "● Write the Python code to compute the mean sales and its confidence interval.\n",
        "\n",
        "\n",
        "**Answer:**\n",
        "\n",
        "(A)\n",
        "\n",
        "The Central Limit Theorem (CLT) says that if we take many random samples from our sales data, the average of those samples will follow a normal distribution.\n",
        "This helps us estimate the true average daily sales even if we only have a small sample.\n",
        "\n",
        "To find the 95% confidence interval, we:\n",
        "\n",
        "Calculate the mean of daily sales.\n",
        "\n",
        "Understand that CLT ensures our mean is reliable.\n",
        "\n",
        "(B) Python code:"
      ],
      "metadata": {
        "id": "PFfmPmv28hQ7"
      }
    },
    {
      "cell_type": "code",
      "source": [
        "import numpy as np\n",
        "import scipy.stats as stats\n",
        "\n",
        "daily_sales = [220, 245, 210, 265, 230, 250, 260, 275, 240, 255,\n",
        "               235, 260, 245, 250, 225, 270, 265, 255, 250, 260]\n",
        "\n",
        "mean_sales = np.mean(daily_sales)\n",
        "std_sales = np.std(daily_sales, ddof=1)\n",
        "\n",
        "confidence = 0.95\n",
        "z_score = stats.norm.ppf(1 - (1 - confidence) / 2)\n",
        "margin_of_error = z_score * (std_sales / np.sqrt(len(daily_sales)))\n",
        "\n",
        "lower = mean_sales - margin_of_error\n",
        "upper = mean_sales + margin_of_error\n",
        "\n",
        "print(\"Mean Daily Sales:\", mean_sales)\n",
        "print(\"95% Confidence Interval:\", (lower, upper))\n"
      ],
      "metadata": {
        "colab": {
          "base_uri": "https://localhost:8080/"
        },
        "id": "XXr4mmak85dk",
        "outputId": "88c954ce-a125-4819-be33-57c7eff4cb52"
      },
      "execution_count": 2,
      "outputs": [
        {
          "output_type": "stream",
          "name": "stdout",
          "text": [
            "Mean Daily Sales: 248.25\n",
            "95% Confidence Interval: (np.float64(240.68326838343515), np.float64(255.81673161656485))\n"
          ]
        }
      ]
    }
  ]
}