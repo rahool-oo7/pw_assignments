{
  "nbformat": 4,
  "nbformat_minor": 0,
  "metadata": {
    "colab": {
      "provenance": []
    },
    "kernelspec": {
      "name": "python3",
      "display_name": "Python 3"
    },
    "language_info": {
      "name": "python"
    }
  },
  "cells": [
    {
      "cell_type": "markdown",
      "source": [
        "# **ASSIGNMENT 1 - PYTHON BASICS**"
      ],
      "metadata": {
        "id": "EEyeGqiM6TSw"
      }
    },
    {
      "cell_type": "markdown",
      "source": [
        "## ***PYTHON BASICS QUESTIONS***"
      ],
      "metadata": {
        "id": "I5-3lN327k1l"
      }
    },
    {
      "cell_type": "markdown",
      "source": [
        "1. What is Python, and why is it popular?\n",
        "  - Python is a high-level, interpreted and object oriented programming language. It is popular because it is easy to understand, has strong community support and a large number of libraries.\n",
        "\n",
        "\n",
        "---\n",
        "\n",
        "\n",
        "\n",
        "\n",
        "2. What is an interpreter in Python?\n",
        "  - Interpreter runs the python code line by line and translates it to machine code in runtime\n",
        "---\n",
        "\n",
        "3. What are pre-defined keywords in Python?\n",
        "  - Pre-defined keywords are some special keyword, reserved in python used to perform specific tasks. (eg. for, while, if, else)\n",
        "---  \n",
        "\n",
        "4. Can keywords be used as variable names?\n",
        "  - No, keywords cannot be used as a variable because they have pre-defined meaning and using them can cause Syntax Error.\n",
        "---\n",
        "\n",
        "5. What is mutability in Python?\n",
        "  - Mutability is a characteristic where the object can be changed after creation, List are mutable.\n",
        "---\n",
        "\n",
        "6. Why are lists mutable, but tuples are immutable?\n",
        "  - Lists are mutable so their element can be changed after creation whereas Tuples are immutable so their elements cannot be changed after creation.\n",
        "---\n",
        "\n",
        "7. What is the difference between “==” and “is” operators in Python?\n",
        "  - \"==\" is used for comparing, whereas \"is\" is used to compare the memory location of both objects.\n",
        "---\n",
        "\n",
        "8. What are logical operators in Python?\n",
        "  - \"and\", \"or\" and \"not\" are logical operators in python, this basically returns a boolean value after evaluating the expression\n",
        "---\n",
        "\n",
        "9. What is type casting in Python?\n",
        "  - Type casting means you are converting a data type to another data type, basically manipulate data based on your choice. There are two types of this : implicit and explicit.\n",
        "---\n",
        "\n",
        "10. What is the difference between implicit and explicit type casting?\n",
        "  - Implicit type casting are those which are done by python itself without any user interaction whereas explicit type casting means user is converting the datatype from the original to another of their choice using => datatype(value)\n",
        "---\n",
        "\n",
        "11. What is the purpose of conditional statements in Python?\n",
        "  - Conditional statements allow a program to make decisions and run the blocks of code based on whether a condition is True or False.\n",
        "---\n",
        "\n",
        "12. How does the elif statement work?\n",
        "  - elif statements are used when there are many conditions to check. if the \"if\" block is false it comes to \"elif\" block and then \"else\" block.\n",
        "\n",
        "---\n",
        "13. What is the difference between for and while loops?\n",
        "  - while loop needs a exterior initialization which will check for condition, it requires a condition to exit from the loop after updation to avoid infinite loop whereas for loop runs for a specific number of times as described in it, it initializes, accept condition and updates in one go and exits from the loop once the loop's condition is over\n",
        "---\n",
        "\n",
        "14. Describe a scenario where a while loop is more suitable than a for loop.\n",
        "  - when we don't know the exact number of times we need to run the loop, we use while loop there. Example : run loop and take input from user until he gives input as \"0\", so here we will use while loop with condition as (choice != 0)."
      ],
      "metadata": {
        "id": "GBZOYSX67xUd"
      }
    },
    {
      "cell_type": "markdown",
      "source": [
        "## ***PRACTICAL QUESTIONS***"
      ],
      "metadata": {
        "id": "Wl3NuAhQH7hX"
      }
    },
    {
      "cell_type": "markdown",
      "source": [
        "1. Write a Python program to print \"Hello, World!\""
      ],
      "metadata": {
        "id": "CWNWsOqwIafc"
      }
    },
    {
      "cell_type": "code",
      "source": [
        "print(\"Hello, World!\")"
      ],
      "metadata": {
        "colab": {
          "base_uri": "https://localhost:8080/"
        },
        "id": "HXbhv-VzH5X_",
        "outputId": "88a90dc2-60ac-42aa-fe4c-0948574da1df"
      },
      "execution_count": null,
      "outputs": [
        {
          "output_type": "stream",
          "name": "stdout",
          "text": [
            "Hello, World!\n"
          ]
        }
      ]
    },
    {
      "cell_type": "markdown",
      "source": [
        "2. Write a Python program that displays your name and age."
      ],
      "metadata": {
        "id": "AzeXxsRfImy9"
      }
    },
    {
      "cell_type": "code",
      "source": [
        "print(\"Name: Ritesh\")\n",
        "print(\"Age: 21\")"
      ],
      "metadata": {
        "id": "u_OAvCQ9I8Lb",
        "colab": {
          "base_uri": "https://localhost:8080/"
        },
        "outputId": "04015dac-1d1b-4c45-a1e5-a0c8ba6af917"
      },
      "execution_count": null,
      "outputs": [
        {
          "output_type": "stream",
          "name": "stdout",
          "text": [
            "Name: Ritesh\n",
            "Age: 21\n"
          ]
        }
      ]
    },
    {
      "cell_type": "markdown",
      "source": [
        "3. Write code to print all the pre-defined keywords in Python using the keyword library."
      ],
      "metadata": {
        "id": "k-7ngQnaJG69"
      }
    },
    {
      "cell_type": "code",
      "source": [
        "help(\"keywords\")"
      ],
      "metadata": {
        "colab": {
          "base_uri": "https://localhost:8080/"
        },
        "id": "pVW0EPEBJLui",
        "outputId": "9167ceef-06eb-4776-a9ba-9fb0df90a772"
      },
      "execution_count": null,
      "outputs": [
        {
          "output_type": "stream",
          "name": "stdout",
          "text": [
            "\n",
            "Here is a list of the Python keywords.  Enter any keyword to get more help.\n",
            "\n",
            "False               class               from                or\n",
            "None                continue            global              pass\n",
            "True                def                 if                  raise\n",
            "and                 del                 import              return\n",
            "as                  elif                in                  try\n",
            "assert              else                is                  while\n",
            "async               except              lambda              with\n",
            "await               finally             nonlocal            yield\n",
            "break               for                 not                 \n",
            "\n"
          ]
        }
      ]
    },
    {
      "cell_type": "markdown",
      "source": [
        "4. Write a program that checks if a given word is a Python keyword."
      ],
      "metadata": {
        "id": "CtYzvzH1Jdry"
      }
    },
    {
      "cell_type": "code",
      "source": [
        "import keyword\n",
        "\n",
        "name = input(\"Enter the keyword to check: \")\n",
        "if name in keyword.kwlist:\n",
        "    print(f\"{name} is a keyword\")\n",
        "else:\n",
        "    print(f\"{name} is not a keyword\")"
      ],
      "metadata": {
        "colab": {
          "base_uri": "https://localhost:8080/"
        },
        "id": "J848Xc5KJb-W",
        "outputId": "6dbb3fbe-04eb-429c-f527-f374ed882818"
      },
      "execution_count": 29,
      "outputs": [
        {
          "output_type": "stream",
          "name": "stdout",
          "text": [
            "Enter the keyword to check: elif\n",
            "elif is a keyword\n"
          ]
        }
      ]
    },
    {
      "cell_type": "markdown",
      "source": [
        "5. Create a list and tuple in Python, and demonstrate how attempting to change an element works differently for each."
      ],
      "metadata": {
        "id": "Qa28lhZTKdXe"
      }
    },
    {
      "cell_type": "code",
      "source": [
        "list_1 = [1,2,3,4,5]\n",
        "tuple_1 = (1,2,3,4,5)\n",
        "list_1[0] = 0 #changes the first element to 0\n",
        "print(list_1)\n",
        "tuple_1[0] = 0 #gives error as tuple is immutable\n",
        "print(tuple_1)"
      ],
      "metadata": {
        "colab": {
          "base_uri": "https://localhost:8080/",
          "height": 216
        },
        "id": "3LNqLUSWJ6cV",
        "outputId": "9eaae037-bd50-4082-b789-390556d5bd0d"
      },
      "execution_count": null,
      "outputs": [
        {
          "output_type": "stream",
          "name": "stdout",
          "text": [
            "[0, 2, 3, 4, 5]\n"
          ]
        },
        {
          "output_type": "error",
          "ename": "TypeError",
          "evalue": "'tuple' object does not support item assignment",
          "traceback": [
            "\u001b[0;31m---------------------------------------------------------------------------\u001b[0m",
            "\u001b[0;31mTypeError\u001b[0m                                 Traceback (most recent call last)",
            "\u001b[0;32m/tmp/ipython-input-8-3312296317.py\u001b[0m in \u001b[0;36m<cell line: 0>\u001b[0;34m()\u001b[0m\n\u001b[1;32m      3\u001b[0m \u001b[0mlist_1\u001b[0m\u001b[0;34m[\u001b[0m\u001b[0;36m0\u001b[0m\u001b[0;34m]\u001b[0m \u001b[0;34m=\u001b[0m \u001b[0;36m0\u001b[0m \u001b[0;31m#changes the first element to 0\u001b[0m\u001b[0;34m\u001b[0m\u001b[0;34m\u001b[0m\u001b[0m\n\u001b[1;32m      4\u001b[0m \u001b[0mprint\u001b[0m\u001b[0;34m(\u001b[0m\u001b[0mlist_1\u001b[0m\u001b[0;34m)\u001b[0m\u001b[0;34m\u001b[0m\u001b[0;34m\u001b[0m\u001b[0m\n\u001b[0;32m----> 5\u001b[0;31m \u001b[0mtuple_1\u001b[0m\u001b[0;34m[\u001b[0m\u001b[0;36m0\u001b[0m\u001b[0;34m]\u001b[0m \u001b[0;34m=\u001b[0m \u001b[0;36m0\u001b[0m \u001b[0;31m#gives error as tuple is immutable\u001b[0m\u001b[0;34m\u001b[0m\u001b[0;34m\u001b[0m\u001b[0m\n\u001b[0m\u001b[1;32m      6\u001b[0m \u001b[0mprint\u001b[0m\u001b[0;34m(\u001b[0m\u001b[0mtuple_1\u001b[0m\u001b[0;34m)\u001b[0m\u001b[0;34m\u001b[0m\u001b[0;34m\u001b[0m\u001b[0m\n",
            "\u001b[0;31mTypeError\u001b[0m: 'tuple' object does not support item assignment"
          ]
        }
      ]
    },
    {
      "cell_type": "markdown",
      "source": [
        "6.  Write a function to demonstrate the behavior of mutable and immutable arguments."
      ],
      "metadata": {
        "id": "6FCmqvfXK5If"
      }
    },
    {
      "cell_type": "code",
      "source": [
        "# Mutable (List)\n",
        "a = [1,2,3,4,5]\n",
        "print(\"a before : \", a)\n",
        "b = a     #assigning the value of a to b\n",
        "b.append(6)\n",
        "print(\"a is now : \", a)     #changed\n",
        "\n",
        "\n",
        "# Immutable (Integer)\n",
        "c = 10\n",
        "print(\"c before : \", c)\n",
        "d = c      #assigning the value of c to d\n",
        "d = 12\n",
        "print(\"c is now : \", c)     #unchanged\n"
      ],
      "metadata": {
        "colab": {
          "base_uri": "https://localhost:8080/"
        },
        "id": "iZExteLdK-A4",
        "outputId": "3e8766a9-d7e0-45a5-8a2a-c4f6d091a133"
      },
      "execution_count": 28,
      "outputs": [
        {
          "output_type": "stream",
          "name": "stdout",
          "text": [
            "a before :  [1, 2, 3, 4, 5]\n",
            "a is now :  [1, 2, 3, 4, 5, 6]\n",
            "c before :  10\n",
            "c is now :  10\n"
          ]
        }
      ]
    },
    {
      "cell_type": "markdown",
      "source": [
        "7.  Write a program that performs basic arithmetic operations on two user-input numbers."
      ],
      "metadata": {
        "id": "DFVC5bEdK_19"
      }
    },
    {
      "cell_type": "code",
      "source": [
        "a = int(input(\"Enter first number: \"))\n",
        "b = int(input(\"Enter second number: \"))\n",
        "print(\"ADD: \", a+b)\n",
        "print(\"SUBTRACT: \", a-b)\n",
        "print(\"MULTIPLY: \", a*b)\n",
        "print(\"DIVIDE: \", a/b)"
      ],
      "metadata": {
        "colab": {
          "base_uri": "https://localhost:8080/"
        },
        "id": "NR0UNfN9LCfb",
        "outputId": "1ee7889e-730f-4ba6-f276-fe6002eb8d98"
      },
      "execution_count": null,
      "outputs": [
        {
          "output_type": "stream",
          "name": "stdout",
          "text": [
            "Enter first number: 10\n",
            "Enter second number: 2\n",
            "ADD:  12\n",
            "SUBTRACT:  8\n",
            "MULTIPLY:  20\n",
            "DIVIDE:  5.0\n"
          ]
        }
      ]
    },
    {
      "cell_type": "markdown",
      "source": [
        "8.  Write a program to demonstrate the use of logical operators."
      ],
      "metadata": {
        "id": "1Gg_GvlwLDEm"
      }
    },
    {
      "cell_type": "code",
      "source": [
        "a = True\n",
        "b = False\n",
        "c = True\n",
        "d = False\n",
        "print(a and c)\n",
        "print(a and b)\n",
        "print(a or b)\n",
        "print(b or d)\n",
        "print(not b)\n",
        "print(not a)"
      ],
      "metadata": {
        "colab": {
          "base_uri": "https://localhost:8080/"
        },
        "id": "T729zM3sLDbc",
        "outputId": "35d530b3-4b4d-4b60-b8cf-3c27951080ab"
      },
      "execution_count": null,
      "outputs": [
        {
          "output_type": "stream",
          "name": "stdout",
          "text": [
            "True\n",
            "False\n",
            "True\n",
            "False\n",
            "True\n",
            "False\n"
          ]
        }
      ]
    },
    {
      "cell_type": "markdown",
      "source": [
        "9.  Write a Python program to convert user input from string to integer, float, and boolean types."
      ],
      "metadata": {
        "id": "1viHa0cXLDuP"
      }
    },
    {
      "cell_type": "code",
      "source": [
        "user_input = input(\"Enter a number: \")\n",
        "print(\"Integer: \", int(user_input))\n",
        "print(\"Float: \", float(user_input))\n",
        "print(\"Boolean: \", bool(user_input))"
      ],
      "metadata": {
        "colab": {
          "base_uri": "https://localhost:8080/"
        },
        "id": "-epkJjD-LEBP",
        "outputId": "dc908ad4-e6bf-4e60-8746-6d7a5c589848"
      },
      "execution_count": null,
      "outputs": [
        {
          "output_type": "stream",
          "name": "stdout",
          "text": [
            "Enter a number: 103\n",
            "Integer:  103\n",
            "Float:  103.0\n",
            "Boolean:  True\n"
          ]
        }
      ]
    },
    {
      "cell_type": "markdown",
      "source": [
        "10.  Write code to demonstrate type casting with list elements."
      ],
      "metadata": {
        "id": "B_LIUDEHLE1z"
      }
    },
    {
      "cell_type": "code",
      "source": [
        "list_1 = [1,2,3,4,5]\n",
        "print(list_1)\n",
        "\n",
        "list_1[0] = str(list_1[0]) #converting 1st element to string\n",
        "print(list_1)\n",
        "\n",
        "list_1[1] = float(list_1[1]) #converting 2nd element to float\n",
        "print(list_1)\n",
        "\n",
        "list_1[2] = bool(list_1[2]) #converting 3rd element to boolean\n",
        "print(list_1)"
      ],
      "metadata": {
        "colab": {
          "base_uri": "https://localhost:8080/"
        },
        "id": "KBlg3OtSLFMA",
        "outputId": "e80b16b1-3a2b-4039-9c82-475576442a9b"
      },
      "execution_count": null,
      "outputs": [
        {
          "output_type": "stream",
          "name": "stdout",
          "text": [
            "[1, 2, 3, 4, 5]\n",
            "['1', 2, 3, 4, 5]\n",
            "['1', 2.0, 3, 4, 5]\n",
            "['1', 2.0, True, 4, 5]\n"
          ]
        }
      ]
    },
    {
      "cell_type": "markdown",
      "source": [
        "11.  Write a program that checks if a number is positive, negative, or zero."
      ],
      "metadata": {
        "id": "uk_djAkfLFdX"
      }
    },
    {
      "cell_type": "code",
      "source": [
        "num = int(input(\"Enter a number: \"))\n",
        "if num > 0:\n",
        "  print(\"Positive\")\n",
        "elif num < 0:\n",
        "  print(\"Negative\")\n",
        "else:\n",
        "  print(\"Zero\")"
      ],
      "metadata": {
        "id": "tpQy_v5RLFxi"
      },
      "execution_count": null,
      "outputs": []
    },
    {
      "cell_type": "markdown",
      "source": [
        "12. Write a for loop to print numbers from 1 to 10."
      ],
      "metadata": {
        "id": "xT_o59-6LIE2"
      }
    },
    {
      "cell_type": "code",
      "source": [
        "for i in range(1, 11):\n",
        "  print(i)"
      ],
      "metadata": {
        "colab": {
          "base_uri": "https://localhost:8080/"
        },
        "id": "SoKD0vjjLIWN",
        "outputId": "a1c57c45-c4da-4603-d666-1122e541a9c8"
      },
      "execution_count": null,
      "outputs": [
        {
          "output_type": "stream",
          "name": "stdout",
          "text": [
            "1\n",
            "2\n",
            "3\n",
            "4\n",
            "5\n",
            "6\n",
            "7\n",
            "8\n",
            "9\n",
            "10\n"
          ]
        }
      ]
    },
    {
      "cell_type": "markdown",
      "source": [
        "13.  Write a Python program to find the sum of all even numbers between 1 and 50."
      ],
      "metadata": {
        "id": "xHxsjVBQLImc"
      }
    },
    {
      "cell_type": "code",
      "source": [
        "sum = 0\n",
        "for i in range(1,50): # here i am excluding 50 as it's written BETWEEN\n",
        "  if(i %2 == 0):\n",
        "    sum = sum + i\n",
        "print(sum)"
      ],
      "metadata": {
        "colab": {
          "base_uri": "https://localhost:8080/"
        },
        "id": "70PGZEThLI3p",
        "outputId": "6099e8ac-0dab-4be9-afaa-9ff900a08edf"
      },
      "execution_count": null,
      "outputs": [
        {
          "output_type": "stream",
          "name": "stdout",
          "text": [
            "600\n"
          ]
        }
      ]
    },
    {
      "cell_type": "markdown",
      "source": [
        "14. Write a program to reverse a string using a while loop."
      ],
      "metadata": {
        "id": "I9KcxpdvLJIm"
      }
    },
    {
      "cell_type": "code",
      "source": [
        "str_input = input(\"Enter a string: \")\n",
        "i = len(str_input) - 1\n",
        "while i >= 0:\n",
        "  print(str_input[i], end=\"\")\n",
        "  i = i - 1"
      ],
      "metadata": {
        "colab": {
          "base_uri": "https://localhost:8080/"
        },
        "id": "fkQAcJJpLJZ2",
        "outputId": "877e5582-128e-4673-a11d-6c2137b7c9b5"
      },
      "execution_count": null,
      "outputs": [
        {
          "output_type": "stream",
          "name": "stdout",
          "text": [
            "Enter a string: yes\n",
            "sey"
          ]
        }
      ]
    },
    {
      "cell_type": "markdown",
      "source": [
        "15. Write a Python program to calculate the factorial of a number provided by the user using a while loop."
      ],
      "metadata": {
        "id": "_lgXkJmwLJ0U"
      }
    },
    {
      "cell_type": "code",
      "source": [
        "num = int(input(\"Enter a number: \"))\n",
        "fact = 1\n",
        "\n",
        "for i in range(1, num+1):\n",
        "  fact = fact*i\n",
        "\n",
        "print(f\"Factorial of {num} is {fact}\")"
      ],
      "metadata": {
        "colab": {
          "base_uri": "https://localhost:8080/"
        },
        "id": "A94SWgN0LKGF",
        "outputId": "92dc93d7-ce60-48ed-d23e-82f74530e6e0"
      },
      "execution_count": null,
      "outputs": [
        {
          "output_type": "stream",
          "name": "stdout",
          "text": [
            "Enter a number: 5\n",
            "Factorial of 5 is 120\n"
          ]
        }
      ]
    }
  ]
}